{
 "cells": [
  {
   "cell_type": "markdown",
   "id": "growing-lebanon",
   "metadata": {},
   "source": [
    "# 快速入门 Blackhole SQL功能\n",
    "----\n",
    "Blackhole SQL是一款面向大数据的、旨在提供对结构化数据使用SQL语句进行查询、分析、统计等功能的单机计算引擎，提供了数据导入、导出能力，和Blackhole的其他两大模块DataFrame和ML能够无缝对接。  \n",
    "## Blackhole环境准备\n",
    "**CodeLab平台默认不安装Blackhole，请先到导航左边“包管理”页面安装blackhole。**  \n",
    "**这个文档简单介绍了Blackhole数据分析的常用接口，更多关于blackhole使用方法和案例，请参考[Blackhole简介和基本用法](https://cloud.baidu.com/doc/BML/s/9khemrnv7)。**"
   ]
  },
  {
   "cell_type": "markdown",
   "id": "accepted-assessment",
   "metadata": {},
   "source": [
    "# SQL引擎使用方式\n",
    "\n",
    "下面将介绍SQL引擎基本功能的使用方式，目前SQL引擎支持python api,用户可以通过编写python程序实现和引擎的交互。"
   ]
  },
  {
   "cell_type": "markdown",
   "id": "southwest-chest",
   "metadata": {},
   "source": [
    "## 1.导入SQL依赖\n",
    "  本教程将使用以下方式导入SQL依赖:"
   ]
  },
  {
   "cell_type": "code",
   "execution_count": 1,
   "id": "happy-winner",
   "metadata": {},
   "outputs": [],
   "source": [
    "from blackhole.sql.context import Context"
   ]
  },
  {
   "cell_type": "markdown",
   "id": "honey-steps",
   "metadata": {},
   "source": [
    "## 2.创建与SQL查询引擎交互的上下文环境"
   ]
  },
  {
   "cell_type": "code",
   "execution_count": 2,
   "id": "handled-methodology",
   "metadata": {},
   "outputs": [
    {
     "name": "stdout",
     "output_type": "stream",
     "text": [
      "Current work dir is /hh/codelab/blackhole/demo/demo\n"
     ]
    }
   ],
   "source": [
    "context = Context()"
   ]
  },
  {
   "cell_type": "markdown",
   "id": "thick-start",
   "metadata": {},
   "source": [
    "## 3.建表并导入数据\n",
    "我们先生成如下一份数据文件\"test.csv\", 数据每行包含3个字段:  \n",
    "  \n",
    "  \n",
    "|  列名   | 说明  | 类型  |\n",
    "|  ----  | ----  | ----  |\n",
    "|  user | 姓名 | String |\n",
    "| age | 年龄 | Int32 |\n",
    "| fee  | 费用 | Float32 |"
   ]
  },
  {
   "cell_type": "code",
   "execution_count": 3,
   "id": "precise-secondary",
   "metadata": {},
   "outputs": [],
   "source": [
    "import os\n",
    "data_path='./test.csv'\n",
    "file = open(data_path, 'w+')\n",
    "file.write('''Tom,32,13205.0\n",
    "              Jack,31,14523.0\n",
    "              Herry,28,9845.0\n",
    "              Bob,43,28314.0\n",
    "              Alice,23,7854.0''')\n",
    "file.close()"
   ]
  },
  {
   "cell_type": "markdown",
   "id": "painted-comedy",
   "metadata": {},
   "source": [
    "建表前为了保证数据不受污染,首先清理可能存在的同名的表,代码如下:"
   ]
  },
  {
   "cell_type": "code",
   "execution_count": 4,
   "id": "beneficial-chrome",
   "metadata": {},
   "outputs": [
    {
     "data": {
      "text/plain": [
       "<blackhole.sql.dataset.dataset.Dataset at 0x7f915b2fd3d0>"
      ]
     },
     "execution_count": 4,
     "metadata": {},
     "output_type": "execute_result"
    }
   ],
   "source": [
    "table_name='test'\n",
    "sql='drop table if exists %s' % table_name\n",
    "context.sql(sql)"
   ]
  },
  {
   "cell_type": "markdown",
   "id": "further-bradley",
   "metadata": {},
   "source": [
    "下面我们将使用上面代码生成的数据文件来建表并导入数据,表名称为'test',代码如下:  \n",
    "* load方法从指定的文件加载数据,  \n",
    "* schema方法将指定这批数据的数据结构,  \n",
    "* format方法指定数据的格式,支持'CSV'、'Parquet'、'CSVWithNames'格式, 这里为“CSV”格式,  \n",
    "* primary_keys方法指定数据表的主键，注意，这里主键与传统的关系数据库不同，这里pk可以重复,  \n",
    "* create_table方法传入一个表名参数就可以建表了。"
   ]
  },
  {
   "cell_type": "code",
   "execution_count": 5,
   "id": "czech-source",
   "metadata": {},
   "outputs": [
    {
     "name": "stdout",
     "output_type": "stream",
     "text": [
      "Start load data into table test firstly\n",
      "Insert query is INSERT INTO test SELECT * FROM file('./test.csv', 'CSV', \"user String,age Int32,fees Float32\")\n"
     ]
    }
   ],
   "source": [
    "data_schema = '''user String,age Int32,fees Float32'''\n",
    "data_format = 'CSV'\n",
    "ds = context.load(data_path).schema(data_schema).format(data_format).primary_keys('user').create_table('test')"
   ]
  },
  {
   "cell_type": "markdown",
   "id": "assigned-panel",
   "metadata": {},
   "source": [
    "## 4.开始查询\n",
    "表建好之后便可以对表中的数据进行各种查询了\n",
    "  ### 4-1.全量查询表中的数据"
   ]
  },
  {
   "cell_type": "code",
   "execution_count": 6,
   "id": "serious-armstrong",
   "metadata": {},
   "outputs": [
    {
     "name": "stdout",
     "output_type": "stream",
     "text": [
      "user\tage\tfees\t\n",
      "Alice\t23\t7854\t\n",
      "Bob\t43\t28314\t\n",
      "Herry\t28\t9845\t\n",
      "Jack\t31\t14523\t\n",
      "Tom\t32\t13205\t\n",
      "\n",
      "\n"
     ]
    }
   ],
   "source": [
    "context.sql('select * from test').show()"
   ]
  },
  {
   "cell_type": "markdown",
   "id": "raised-sleeve",
   "metadata": {},
   "source": [
    "  ### 4-2.设置条件进行查询(过滤)"
   ]
  },
  {
   "cell_type": "code",
   "execution_count": 7,
   "id": "russian-alabama",
   "metadata": {},
   "outputs": [
    {
     "name": "stdout",
     "output_type": "stream",
     "text": [
      "user\tage\tfees\t\n",
      "Alice\t23\t7854\t\n",
      "Herry\t28\t9845\t\n",
      "\n",
      "\n"
     ]
    }
   ],
   "source": [
    "context.sql('select * from test where fees < 10000.0 limit 2').show()"
   ]
  },
  {
   "cell_type": "markdown",
   "id": "satisfied-right",
   "metadata": {},
   "source": [
    "  ### 4-3.对某列求和/求算术平均/最大/最小值"
   ]
  },
  {
   "cell_type": "code",
   "execution_count": 8,
   "id": "suspected-tulsa",
   "metadata": {},
   "outputs": [
    {
     "name": "stdout",
     "output_type": "stream",
     "text": [
      "sum(fees)\t\n",
      "73741\t\n",
      "\n",
      "\n",
      "avg(age)\t\n",
      "31.4\t\n",
      "\n",
      "\n",
      "min(age)\t\n",
      "23\t\n",
      "\n",
      "\n",
      "max(fees)\t\n",
      "28314\t\n",
      "\n",
      "\n"
     ]
    }
   ],
   "source": [
    "context.sql('select sum(fees) from test').show()\n",
    "context.sql('select avg(age) from test').show()\n",
    "context.sql('select min(age) from test').show()\n",
    "context.sql('select max(fees) from test').show()"
   ]
  },
  {
   "cell_type": "markdown",
   "id": "occupied-entry",
   "metadata": {},
   "source": [
    "  ### 4-4.排序"
   ]
  },
  {
   "cell_type": "code",
   "execution_count": 9,
   "id": "laden-jumping",
   "metadata": {},
   "outputs": [
    {
     "name": "stdout",
     "output_type": "stream",
     "text": [
      "user\tage\tfees\t\n",
      "Bob\t43\t28314\t\n",
      "Tom\t32\t13205\t\n",
      "Jack\t31\t14523\t\n",
      "Herry\t28\t9845\t\n",
      "Alice\t23\t7854\t\n",
      "\n",
      "\n"
     ]
    }
   ],
   "source": [
    "context.sql('select * from test order by age desc').show()"
   ]
  },
  {
   "cell_type": "markdown",
   "id": "floppy-specific",
   "metadata": {},
   "source": [
    "  ### 4-5.聚合"
   ]
  },
  {
   "cell_type": "code",
   "execution_count": 10,
   "id": "subsequent-hearing",
   "metadata": {},
   "outputs": [
    {
     "name": "stdout",
     "output_type": "stream",
     "text": [
      "user\tmax(fees)\t\n",
      "Alice\t7854\t\n",
      "Tom\t13205\t\n",
      "Herry\t9845\t\n",
      "Bob\t28314\t\n",
      "Jack\t14523\t\n",
      "\n",
      "\n"
     ]
    }
   ],
   "source": [
    "context.sql('select user, max(fees) from test group by user').show()"
   ]
  },
  {
   "cell_type": "markdown",
   "id": "continent-perry",
   "metadata": {},
   "source": [
    "  ### 4-6.查询结果导出到文件\n",
    "目前导出的文件格式为tsv(即以tab符分隔字段的文件)"
   ]
  },
  {
   "cell_type": "code",
   "execution_count": 11,
   "id": "ordered-kentucky",
   "metadata": {},
   "outputs": [
    {
     "data": {
      "text/plain": [
       "<blackhole.sql.dataset.dataset.Dataset at 0x7fc1bbf6d550>"
      ]
     },
     "execution_count": 11,
     "metadata": {},
     "output_type": "execute_result"
    }
   ],
   "source": [
    "context.sql('select age, sum(fees) from test group by age').save('./result.tsv')"
   ]
  },
  {
   "cell_type": "code",
   "execution_count": null,
   "id": "loving-station",
   "metadata": {},
   "outputs": [],
   "source": []
  }
 ],
 "metadata": {
  "kernelspec": {
   "display_name": "Python 3",
   "language": "python",
   "name": "python3"
  },
  "language_info": {
   "codemirror_mode": {
    "name": "ipython",
    "version": 3
   },
   "file_extension": ".py",
   "mimetype": "text/x-python",
   "name": "python",
   "nbconvert_exporter": "python",
   "pygments_lexer": "ipython3",
   "version": "3.7.9"
  }
 },
 "nbformat": 4,
 "nbformat_minor": 5
}
