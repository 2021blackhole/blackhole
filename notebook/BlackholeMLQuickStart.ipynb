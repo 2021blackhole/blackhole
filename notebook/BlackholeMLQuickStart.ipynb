{
 "cells": [
  {
   "cell_type": "markdown",
   "id": "large-lodging",
   "metadata": {},
   "source": [
    "# 快速入门Blackhole 机器学习功能\n",
    "---\n",
    "* Blackhole ML是高性能机器学习引擎，具备单机大数据处理能力，拥有与Scikit-learn一致的接口，享有单机处理的便利性和媲美分布式处理的性能。\n",
    "* 该指南旨在介绍Blackhole ML模块提供的一些主要功能，如数据预处理、模型训练、预测、评估、调优、持久化等基本操作。\n",
    "\n",
    "\n",
    "## Blackhole环境准备\n",
    "**CodeLab平台默认不安装Blackhole，请先到导航左边“包管理”页面安装blackhole。**  \n",
    "**这个文档简单介绍了Blackhole数据分析的常用接口，更多关于blackhole使用方法和案例，请参考[Blackhole简介和基本用法](https://cloud.baidu.com/doc/BML/s/9khemrnv7)。**"
   ]
  },
  {
   "cell_type": "markdown",
   "id": "ongoing-objective",
   "metadata": {},
   "source": [
    "## 模型训练和预测\n",
    "---\n",
    "Blackhole ML提供了许多内置的机器学习算法，称为estimator，每个estimator都可以用它的fit方法来拟合数据。\n",
    "以下是一个简单的例子：使用RandomForestClassifier estimator来拟合一些基本的数据："
   ]
  },
  {
   "cell_type": "code",
   "execution_count": 1,
   "id": "conventional-notion",
   "metadata": {},
   "outputs": [
    {
     "data": {
      "text/html": [
       "<style type='text/css'>\n",
       ".datatable table.frame { margin-bottom: 0; }\n",
       ".datatable table.frame thead { border-bottom: none; }\n",
       ".datatable table.frame tr.coltypes td {  color: #FFFFFF;  line-height: 6px;  padding: 0 0.5em;}\n",
       ".datatable .bool    { background: #DDDD99; }\n",
       ".datatable .object  { background: #565656; }\n",
       ".datatable .int     { background: #5D9E5D; }\n",
       ".datatable .float   { background: #4040CC; }\n",
       ".datatable .str     { background: #CC4040; }\n",
       ".datatable .row_index {  background: var(--jp-border-color3);  border-right: 1px solid var(--jp-border-color0);  color: var(--jp-ui-font-color3);  font-size: 9px;}\n",
       ".datatable .frame tr.coltypes .row_index {  background: var(--jp-border-color0);}\n",
       ".datatable th:nth-child(2) { padding-left: 12px; }\n",
       ".datatable .hellipsis {  color: var(--jp-cell-editor-border-color);}\n",
       ".datatable .vellipsis {  background: var(--jp-layout-color0);  color: var(--jp-cell-editor-border-color);}\n",
       ".datatable .na {  color: var(--jp-cell-editor-border-color);  font-size: 80%;}\n",
       ".datatable .footer { font-size: 9px; }\n",
       ".datatable .frame_dimensions {  background: var(--jp-border-color3);  border-top: 1px solid var(--jp-border-color0);  color: var(--jp-ui-font-color3);  display: inline-block;  opacity: 0.6;  padding: 1px 10px 1px 5px;}\n",
       "</style>\n"
      ],
      "text/plain": [
       "<IPython.core.display.HTML object>"
      ]
     },
     "metadata": {},
     "output_type": "display_data"
    },
    {
     "name": "stdout",
     "output_type": "stream",
     "text": [
      "Parse progress: |█████████████████████████████████████████████████████████| 100%\n",
      "Parse progress: |█████████████████████████████████████████████████████████| 100%\n",
      "drf Model Build progress: |███████████████████████████████████████████████| 100%\n"
     ]
    }
   ],
   "source": [
    "import blackhole.dataframe as bhdf\n",
    "from blackhole.ml.ensemble import RandomForestClassifier\n",
    "clf = RandomForestClassifier(random_state=0)\n",
    "X = bhdf.DataFrame([[1, 2, 3],[11, 12, 13]]) # 2个样本，3个特征\n",
    "y = bhdf.Series([0, 1])\n",
    "clf.fit(X, y)"
   ]
  },
  {
   "cell_type": "markdown",
   "id": "pediatric-polls",
   "metadata": {},
   "source": [
    "fit方法通常接受两个输入参数：\n",
    "* 样本矩阵X，X的size为（n_samples，n_features），samples代表行，features代表列。\n",
    "* 标签值y，对于分类任务是integers类型，对于回归任务是real类型数据，对于非监督学习任务不需要指定y；y的第i个元素，对应X的第i个样本的标签值。"
   ]
  },
  {
   "cell_type": "markdown",
   "id": "handmade-number",
   "metadata": {},
   "source": [
    "一旦拟合了estimator，就可以用来预测新数据的标签值，不需要再重新训练estimator："
   ]
  },
  {
   "cell_type": "code",
   "execution_count": 7,
   "id": "devoted-antigua",
   "metadata": {},
   "outputs": [
    {
     "name": "stdout",
     "output_type": "stream",
     "text": [
      "Parse progress: |█████████████████████████████████████████████████████████| 100%\n",
      "drf prediction progress: |████████████████████████████████████████████████| 100%\n",
      "Export File progress: |███████████████████████████████████████████████████| 100%\n"
     ]
    },
    {
     "data": {
      "text/html": [
       "<div>\n",
       "<style scoped>\n",
       "    .dataframe tbody tr th:only-of-type {\n",
       "        vertical-align: middle;\n",
       "    }\n",
       "\n",
       "    .dataframe tbody tr th {\n",
       "        vertical-align: top;\n",
       "    }\n",
       "\n",
       "    .dataframe thead th {\n",
       "        text-align: right;\n",
       "    }\n",
       "</style>\n",
       "<table border=\"1\" class=\"dataframe\">\n",
       "  <thead>\n",
       "    <tr style=\"text-align: right;\">\n",
       "      <th></th>\n",
       "      <th>predict</th>\n",
       "    </tr>\n",
       "  </thead>\n",
       "  <tbody>\n",
       "    <tr>\n",
       "      <th>0</th>\n",
       "      <td>0</td>\n",
       "    </tr>\n",
       "    <tr>\n",
       "      <th>1</th>\n",
       "      <td>1</td>\n",
       "    </tr>\n",
       "  </tbody>\n",
       "</table>\n",
       "</div>"
      ],
      "text/plain": [
       "   predict\n",
       "0        0\n",
       "1        1"
      ]
     },
     "execution_count": 7,
     "metadata": {},
     "output_type": "execute_result"
    }
   ],
   "source": [
    "clf.predict(bhdf.DataFrame([[4, 5, 6], [14, 15, 16]]))"
   ]
  },
  {
   "cell_type": "markdown",
   "id": "local-senior",
   "metadata": {},
   "source": [
    "## 数据转换与预处理\n",
    "* 为了获取较好的模型效果，在模型训练前，通常会进行数据转换和预处理的操作。\n",
    "* Blackhole ML提供了fit、transform或者同时fit_transform方法对训练数据进行转换和预处理："
   ]
  },
  {
   "cell_type": "code",
   "execution_count": 9,
   "id": "unusual-height",
   "metadata": {},
   "outputs": [
    {
     "data": {
      "text/html": [
       "<div>\n",
       "<style scoped>\n",
       "    .dataframe tbody tr th:only-of-type {\n",
       "        vertical-align: middle;\n",
       "    }\n",
       "\n",
       "    .dataframe tbody tr th {\n",
       "        vertical-align: top;\n",
       "    }\n",
       "\n",
       "    .dataframe thead th {\n",
       "        text-align: right;\n",
       "    }\n",
       "</style>\n",
       "<table border=\"1\" class=\"dataframe\">\n",
       "  <thead>\n",
       "    <tr style=\"text-align: right;\">\n",
       "      <th></th>\n",
       "      <th>0</th>\n",
       "      <th>1</th>\n",
       "    </tr>\n",
       "  </thead>\n",
       "  <tbody>\n",
       "    <tr>\n",
       "      <th>0</th>\n",
       "      <td>-1.0</td>\n",
       "      <td>1.0</td>\n",
       "    </tr>\n",
       "    <tr>\n",
       "      <th>1</th>\n",
       "      <td>1.0</td>\n",
       "      <td>-1.0</td>\n",
       "    </tr>\n",
       "  </tbody>\n",
       "</table>\n",
       "</div>"
      ],
      "text/plain": [
       "     0    1\n",
       "0 -1.0  1.0\n",
       "1  1.0 -1.0"
      ]
     },
     "execution_count": 9,
     "metadata": {},
     "output_type": "execute_result"
    }
   ],
   "source": [
    "from blackhole.ml.preprocessing import StandardScaler\n",
    "X = bhdf.DataFrame([[0, 15],[1, -10]])\n",
    "StandardScaler().fit(X).transform(X)"
   ]
  },
  {
   "cell_type": "code",
   "execution_count": 10,
   "id": "advisory-steam",
   "metadata": {},
   "outputs": [
    {
     "data": {
      "text/html": [
       "<div>\n",
       "<style scoped>\n",
       "    .dataframe tbody tr th:only-of-type {\n",
       "        vertical-align: middle;\n",
       "    }\n",
       "\n",
       "    .dataframe tbody tr th {\n",
       "        vertical-align: top;\n",
       "    }\n",
       "\n",
       "    .dataframe thead th {\n",
       "        text-align: right;\n",
       "    }\n",
       "</style>\n",
       "<table border=\"1\" class=\"dataframe\">\n",
       "  <thead>\n",
       "    <tr style=\"text-align: right;\">\n",
       "      <th></th>\n",
       "      <th>0</th>\n",
       "      <th>1</th>\n",
       "    </tr>\n",
       "  </thead>\n",
       "  <tbody>\n",
       "    <tr>\n",
       "      <th>0</th>\n",
       "      <td>-1.0</td>\n",
       "      <td>1.0</td>\n",
       "    </tr>\n",
       "    <tr>\n",
       "      <th>1</th>\n",
       "      <td>1.0</td>\n",
       "      <td>-1.0</td>\n",
       "    </tr>\n",
       "  </tbody>\n",
       "</table>\n",
       "</div>"
      ],
      "text/plain": [
       "     0    1\n",
       "0 -1.0  1.0\n",
       "1  1.0 -1.0"
      ]
     },
     "execution_count": 10,
     "metadata": {},
     "output_type": "execute_result"
    }
   ],
   "source": [
    "StandardScaler().fit_transform(X)"
   ]
  },
  {
   "cell_type": "markdown",
   "id": "israeli-burst",
   "metadata": {},
   "source": [
    "更多预处理功能可参考Blackhole ML的preprocessing模块"
   ]
  },
  {
   "cell_type": "markdown",
   "id": "quantitative-luxury",
   "metadata": {},
   "source": [
    "## 模型评估\n",
    "模型的拟合效果，需要通过模型评分方法来度量，Blackhole ML提供了针对分类、回归、聚类等不同学习任务的模型评估方法，以准确率方法为例："
   ]
  },
  {
   "cell_type": "code",
   "execution_count": 13,
   "id": "nervous-equity",
   "metadata": {},
   "outputs": [
    {
     "name": "stdout",
     "output_type": "stream",
     "text": [
      "Parse progress: |█████████████████████████████████████████████████████████| 100%\n",
      "Parse progress: |█████████████████████████████████████████████████████████| 100%\n",
      "glm Model Build progress: |███████████████████████████████████████████████| 100%\n",
      "Parse progress: |█████████████████████████████████████████████████████████| 100%\n",
      "glm prediction progress: |████████████████████████████████████████████████| 100%\n",
      "Export File progress: |███████████████████████████████████████████████████| 100%\n"
     ]
    },
    {
     "data": {
      "text/plain": [
       "1.0"
      ]
     },
     "execution_count": 13,
     "metadata": {},
     "output_type": "execute_result"
    }
   ],
   "source": [
    "from blackhole.ml.linear_model import LogisticRegression\n",
    "from blackhole.ml.metrics import accuracy_score\n",
    "X = bhdf.DataFrame([[1, 2, 3],[11, 12, 13]]) # 2个样本，3个特征\n",
    "y = bhdf.Series([0, 1])\n",
    "clf = LogisticRegression()\n",
    "clf.fit(X, y)\n",
    "y_predict = clf.predict(X)\n",
    "accuracy_score(y, y_predict)"
   ]
  },
  {
   "cell_type": "markdown",
   "id": "geographic-bones",
   "metadata": {},
   "source": [
    "## 模型优化\n",
    "* Blackhole ML的所有estiator都有可以调整的参数，称为超参数。例如，GradientBoostingRegressor中树的最大深度max_depth。\n",
    "* estimator的泛化能力通常依赖于超参数的调整。Blackhole ML提供了自动查找最佳超参组合的方法（通过交叉验证实现），如GridSearchCV、RandomizedSearchCV"
   ]
  },
  {
   "cell_type": "code",
   "execution_count": 24,
   "id": "dominant-gallery",
   "metadata": {},
   "outputs": [
    {
     "name": "stdout",
     "output_type": "stream",
     "text": [
      "Parse progress: |█████████████████████████████████████████████████████████| 100%\n",
      "Parse progress: |█████████████████████████████████████████████████████████| 100%\n",
      "gbm Grid Build progress: |████████████████████████████████████████████████| 100%\n"
     ]
    }
   ],
   "source": [
    "from sklearn.datasets import fetch_california_housing\n",
    "from blackhole.ml.ensemble import GradientBoostingRegressor\n",
    "from blackhole.ml.model_selection import RandomizedSearchCV\n",
    "from blackhole.ml.model_selection import train_test_split\n",
    "\n",
    "X, y = fetch_california_housing(return_X_y=True)\n",
    "X_train, X_test, y_train, y_test = train_test_split(X, y, random_state=0)\n",
    "param_distributions = {'learn_rate': [0.1, 0.01, 0.001], 'max_depth': [2, 4, 6]}\n",
    "search = RandomizedSearchCV(\n",
    "    estimator=GradientBoostingRegressor(random_state=0),\n",
    "    n_iter=5,\n",
    "    scoring='mse',\n",
    "    param_distributions=param_distributions,\n",
    "    random_state=0\n",
    ")\n",
    "search.fit(X_train, y_train)"
   ]
  },
  {
   "cell_type": "code",
   "execution_count": 26,
   "id": "unauthorized-berry",
   "metadata": {},
   "outputs": [
    {
     "data": {
      "text/plain": [
       "{'learn_rate': 0.1, 'max_depth': 6}"
      ]
     },
     "execution_count": 26,
     "metadata": {},
     "output_type": "execute_result"
    }
   ],
   "source": [
    "search.best_params"
   ]
  },
  {
   "cell_type": "code",
   "execution_count": 27,
   "id": "cultural-claim",
   "metadata": {},
   "outputs": [
    {
     "data": {
      "text/plain": [
       "0.19857402550517486"
      ]
     },
     "execution_count": 27,
     "metadata": {},
     "output_type": "execute_result"
    }
   ],
   "source": [
    "search.best_score"
   ]
  },
  {
   "cell_type": "markdown",
   "id": "sunrise-gauge",
   "metadata": {},
   "source": [
    "## 模型保存\n",
    "Blackhole ML提供了save_model、load_model方法用于模型的保存和加载"
   ]
  },
  {
   "cell_type": "code",
   "execution_count": 29,
   "id": "indonesian-advocate",
   "metadata": {},
   "outputs": [
    {
     "name": "stdout",
     "output_type": "stream",
     "text": [
      "Parse progress: |█████████████████████████████████████████████████████████| 100%\n",
      "Parse progress: |█████████████████████████████████████████████████████████| 100%\n",
      "glm Model Build progress: |███████████████████████████████████████████████| 100%\n"
     ]
    }
   ],
   "source": [
    "from blackhole.ml.linear_model import LogisticRegression\n",
    "from blackhole.ml.metrics import accuracy_score\n",
    "from blackhole.ml import save_model\n",
    "\n",
    "X = bhdf.DataFrame([[1, 2, 3],[11, 12, 13]]) # 2个样本，3个特征\n",
    "y = bhdf.Series([0, 1])\n",
    "clf = LogisticRegression()\n",
    "clf.fit(X, y)\n",
    "save_model(clf, 'lr_model')"
   ]
  },
  {
   "cell_type": "code",
   "execution_count": null,
   "id": "atomic-business",
   "metadata": {},
   "outputs": [],
   "source": []
  }
 ],
 "metadata": {
  "kernelspec": {
   "display_name": "Python 3",
   "language": "python",
   "name": "python3"
  },
  "language_info": {
   "codemirror_mode": {
    "name": "ipython",
    "version": 3
   },
   "file_extension": ".py",
   "mimetype": "text/x-python",
   "name": "python",
   "nbconvert_exporter": "python",
   "pygments_lexer": "ipython3",
   "version": "3.7.9"
  }
 },
 "nbformat": 4,
 "nbformat_minor": 5
}
