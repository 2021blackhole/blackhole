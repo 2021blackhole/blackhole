{
 "cells": [
  {
   "cell_type": "markdown",
   "metadata": {},
   "source": [
    "# 快速入门 Blackhole 数据分析功能\n",
    "-------\n"
   ]
  },
  {
   "cell_type": "markdown",
   "metadata": {},
   "source": [
    "Blackhole数据分析提供了非常类似Pandas的API，目前已经对齐了90%以上的方法和属性。但又区别于Pandas，Blackhole内部采用CPU多核加速、异构加速、高效存储、惰性计算等等技术，充分发挥硬件原生性能潜力。  \n",
    "经过我们系统评估，在机器环境（CPU:28逻辑核,内存256G,Intel(R) Xeon(R）Gold 5117 CPU @2.00GHz）里，Blackhole数据处理量超过Pandas 8倍，性能加速超过7倍。\n",
    "\n",
    "## Blackhole 数据分析中的数据结构\n",
    "\n",
    "blackhole 数据分析提供两种数据类型，*Series* 和 *DataFrame*。\n",
    "\n",
    "**Series** 是一种一维的数据类型，其中的每个元素都有各自的标签。如果你了解 Numpy，你可以把它当作一个由带标签的元素组成的 numpy 数组。标签可以是数字或者字符。\n",
    "\n",
    "**DataFrame** 是一个二维的、表格型的数据结构。blackhole 的 DataFrame 可以储存许多不同类型的数据，并且每个轴都有标签。你可以把它当作一个 series 的字典。\n",
    "\n",
    "\n",
    "## Blackhole环境准备\n",
    "**CodeLab平台默认不安装Blackhole，请先到导航左边“包管理”页面安装blackhole。**  \n",
    "**这个文档简单介绍了Blackhole数据分析的常用接口，更多关于blackhole使用方法和案例，请参考[Blackhole简介和基本用法](https://cloud.baidu.com/doc/BML/s/9khemrnv7)。**"
   ]
  },
  {
   "cell_type": "markdown",
   "metadata": {},
   "source": [
    "## 数据集介绍\n",
    "样例中采用的小数据集是英国在若干年下雨量相关的统计信息，数据主要有33行 * 7 列，让大家快速体验Blackhole，想要体验Blackhole的大数据处理过程，可以参考左边“Blackhole预测航班延迟案例”、 “Blackhole预测NYCtaxi票价案例”等。 \n",
    "\n",
    "|  列名   | 说明  |\n",
    "|  ----  | ----  |\n",
    "|  Water Year | 年份 |\n",
    "| Rain (mm) Oct-Sep  | 九月到十月降平均雨量（毫米） |\n",
    "| Outflow (m3/s) Oct-Sep  | 九月到十月总降雨量（立方米） |\n",
    "| Rain (mm) Dec-Feb  | 十二月到一月降平均雨量（毫米） |\n",
    "| Outflow (m3/s) Dec-Feb  | 十二月到一月总降雨量（立方米） |\n",
    "| Rain (mm) Jun-Aug  | 七月到八月降平均雨量（毫米） |\n",
    "| Outflow (m3/s) Jun-Aug  | 七月到八月总降雨量（立方米） |"
   ]
  },
  {
   "cell_type": "markdown",
   "metadata": {},
   "source": [
    "### 下载数据集"
   ]
  },
  {
   "cell_type": "code",
   "execution_count": 1,
   "metadata": {},
   "outputs": [],
   "source": [
    "!wget --quiet https://blackhole-demo.bj.bcebos.com/uk_rain_2014.csv\n",
    "!wget --quiet https://blackhole-demo.bj.bcebos.com/uk_rain.csv"
   ]
  },
  {
   "cell_type": "markdown",
   "metadata": {},
   "source": [
    "# 1. 如何导入blackhole数据分析库？"
   ]
  },
  {
   "cell_type": "code",
   "execution_count": 2,
   "metadata": {},
   "outputs": [
    {
     "data": {
      "text/html": [
       "<style type='text/css'>\n",
       ".datatable table.frame { margin-bottom: 0; }\n",
       ".datatable table.frame thead { border-bottom: none; }\n",
       ".datatable table.frame tr.coltypes td {  color: #FFFFFF;  line-height: 6px;  padding: 0 0.5em;}\n",
       ".datatable .bool    { background: #DDDD99; }\n",
       ".datatable .object  { background: #565656; }\n",
       ".datatable .int     { background: #5D9E5D; }\n",
       ".datatable .float   { background: #4040CC; }\n",
       ".datatable .str     { background: #CC4040; }\n",
       ".datatable .row_index {  background: var(--jp-border-color3);  border-right: 1px solid var(--jp-border-color0);  color: var(--jp-ui-font-color3);  font-size: 9px;}\n",
       ".datatable .frame tr.coltypes .row_index {  background: var(--jp-border-color0);}\n",
       ".datatable th:nth-child(2) { padding-left: 12px; }\n",
       ".datatable .hellipsis {  color: var(--jp-cell-editor-border-color);}\n",
       ".datatable .vellipsis {  background: var(--jp-layout-color0);  color: var(--jp-cell-editor-border-color);}\n",
       ".datatable .na {  color: var(--jp-cell-editor-border-color);  font-size: 80%;}\n",
       ".datatable .footer { font-size: 9px; }\n",
       ".datatable .frame_dimensions {  background: var(--jp-border-color3);  border-top: 1px solid var(--jp-border-color0);  color: var(--jp-ui-font-color3);  display: inline-block;  opacity: 0.6;  padding: 1px 10px 1px 5px;}\n",
       "</style>\n"
      ],
      "text/plain": [
       "<IPython.core.display.HTML object>"
      ]
     },
     "metadata": {},
     "output_type": "display_data"
    }
   ],
   "source": [
    "import blackhole.dataframe as pd"
   ]
  },
  {
   "cell_type": "markdown",
   "metadata": {},
   "source": [
    "说明：大家经常看到Pandas的导入方法是“import pandas as pd”，而Blackhole接口对齐了Pandas 90%以上的方法和属性，  \n",
    "所以 **对于很多Pandas程序只要将“import pandas as pd” 替换成 “import blackhole.dataframe as pd”** ,  \n",
    "一句代码修改就可以体验Blackhole的超大数据处理能力和加速效果。  \n",
    "当然你也可以命名为任何你喜欢的名字，比如“import blackhole.dataframe as bhdf”。"
   ]
  },
  {
   "cell_type": "markdown",
   "metadata": {},
   "source": [
    "# 2. 如何导入数据？"
   ]
  },
  {
   "cell_type": "markdown",
   "metadata": {},
   "source": [
    "在对数据进行修改、探索和分析之前，我们得先导入数据，主要通过 **read_csv** 方法，read_csv会返回一个blackhole的DataFrame对象。"
   ]
  },
  {
   "cell_type": "code",
   "execution_count": 3,
   "metadata": {},
   "outputs": [],
   "source": [
    "df = pd.read_csv('uk_rain_2014.csv', header=0)"
   ]
  },
  {
   "cell_type": "code",
   "execution_count": 4,
   "metadata": {},
   "outputs": [
    {
     "data": {
      "text/plain": [
       "blackhole.dataframe.frame.DataFrame"
      ]
     },
     "execution_count": 4,
     "metadata": {},
     "output_type": "execute_result"
    }
   ],
   "source": [
    "type(df)"
   ]
  },
  {
   "cell_type": "markdown",
   "metadata": {},
   "source": [
    "**说明：相比Pandas的read_csv，读取大数据量文件的时候，Blackhole能够加速10倍以上，内存可以节省5倍以上。**"
   ]
  },
  {
   "cell_type": "markdown",
   "metadata": {},
   "source": [
    "# 3. 如何进行数据探索和分析？"
   ]
  },
  {
   "cell_type": "markdown",
   "metadata": {},
   "source": [
    "## 3.1 查看前 x 行的数据"
   ]
  },
  {
   "cell_type": "code",
   "execution_count": 5,
   "metadata": {},
   "outputs": [
    {
     "data": {
      "text/html": [
       "<div>\n",
       "<style scoped>\n",
       "    .dataframe tbody tr th:only-of-type {\n",
       "        vertical-align: middle;\n",
       "    }\n",
       "\n",
       "    .dataframe tbody tr th {\n",
       "        vertical-align: top;\n",
       "    }\n",
       "\n",
       "    .dataframe thead th {\n",
       "        text-align: right;\n",
       "    }\n",
       "</style>\n",
       "<table border=\"1\" class=\"dataframe\">\n",
       "  <thead>\n",
       "    <tr style=\"text-align: right;\">\n",
       "      <th></th>\n",
       "      <th>Water Year</th>\n",
       "      <th>Rain (mm) Oct-Sep</th>\n",
       "      <th>Outflow (m3/s) Oct-Sep</th>\n",
       "      <th>Rain (mm) Dec-Feb</th>\n",
       "      <th>Outflow (m3/s) Dec-Feb</th>\n",
       "      <th>Rain (mm) Jun-Aug</th>\n",
       "      <th>Outflow (m3/s) Jun-Aug</th>\n",
       "    </tr>\n",
       "  </thead>\n",
       "  <tbody>\n",
       "    <tr>\n",
       "      <th>0</th>\n",
       "      <td>1980/81</td>\n",
       "      <td>1182</td>\n",
       "      <td>5408</td>\n",
       "      <td>292</td>\n",
       "      <td>7248</td>\n",
       "      <td>174</td>\n",
       "      <td>2212</td>\n",
       "    </tr>\n",
       "    <tr>\n",
       "      <th>1</th>\n",
       "      <td>1981/82</td>\n",
       "      <td>1098</td>\n",
       "      <td>5112</td>\n",
       "      <td>257</td>\n",
       "      <td>7316</td>\n",
       "      <td>242</td>\n",
       "      <td>1936</td>\n",
       "    </tr>\n",
       "    <tr>\n",
       "      <th>2</th>\n",
       "      <td>1982/83</td>\n",
       "      <td>1156</td>\n",
       "      <td>5701</td>\n",
       "      <td>330</td>\n",
       "      <td>8567</td>\n",
       "      <td>124</td>\n",
       "      <td>1802</td>\n",
       "    </tr>\n",
       "    <tr>\n",
       "      <th>3</th>\n",
       "      <td>1983/84</td>\n",
       "      <td>993</td>\n",
       "      <td>4265</td>\n",
       "      <td>391</td>\n",
       "      <td>8905</td>\n",
       "      <td>141</td>\n",
       "      <td>1078</td>\n",
       "    </tr>\n",
       "    <tr>\n",
       "      <th>4</th>\n",
       "      <td>1984/85</td>\n",
       "      <td>1182</td>\n",
       "      <td>5364</td>\n",
       "      <td>217</td>\n",
       "      <td>5813</td>\n",
       "      <td>343</td>\n",
       "      <td>4313</td>\n",
       "    </tr>\n",
       "  </tbody>\n",
       "</table>\n",
       "</div>"
      ],
      "text/plain": [
       "  Water Year  Rain (mm) Oct-Sep  Outflow (m3/s) Oct-Sep  Rain (mm) Dec-Feb  Outflow (m3/s) Dec-Feb  Rain (mm) Jun-Aug  Outflow (m3/s) Jun-Aug\n",
       "0    1980/81               1182                    5408                292                    7248                174                    2212\n",
       "1    1981/82               1098                    5112                257                    7316                242                    1936\n",
       "2    1982/83               1156                    5701                330                    8567                124                    1802\n",
       "3    1983/84                993                    4265                391                    8905                141                    1078\n",
       "4    1984/85               1182                    5364                217                    5813                343                    4313"
      ]
     },
     "execution_count": 5,
     "metadata": {},
     "output_type": "execute_result"
    }
   ],
   "source": [
    "# Getting first x rows.\n",
    "df.head(5)"
   ]
  },
  {
   "cell_type": "markdown",
   "metadata": {},
   "source": [
    "## 3.2 查看后 x 行的数据"
   ]
  },
  {
   "cell_type": "code",
   "execution_count": 6,
   "metadata": {},
   "outputs": [
    {
     "data": {
      "text/html": [
       "<div>\n",
       "<style scoped>\n",
       "    .dataframe tbody tr th:only-of-type {\n",
       "        vertical-align: middle;\n",
       "    }\n",
       "\n",
       "    .dataframe tbody tr th {\n",
       "        vertical-align: top;\n",
       "    }\n",
       "\n",
       "    .dataframe thead th {\n",
       "        text-align: right;\n",
       "    }\n",
       "</style>\n",
       "<table border=\"1\" class=\"dataframe\">\n",
       "  <thead>\n",
       "    <tr style=\"text-align: right;\">\n",
       "      <th></th>\n",
       "      <th>Water Year</th>\n",
       "      <th>Rain (mm) Oct-Sep</th>\n",
       "      <th>Outflow (m3/s) Oct-Sep</th>\n",
       "      <th>Rain (mm) Dec-Feb</th>\n",
       "      <th>Outflow (m3/s) Dec-Feb</th>\n",
       "      <th>Rain (mm) Jun-Aug</th>\n",
       "      <th>Outflow (m3/s) Jun-Aug</th>\n",
       "    </tr>\n",
       "  </thead>\n",
       "  <tbody>\n",
       "    <tr>\n",
       "      <th>28</th>\n",
       "      <td>2008/09</td>\n",
       "      <td>1139</td>\n",
       "      <td>4941</td>\n",
       "      <td>268</td>\n",
       "      <td>6690</td>\n",
       "      <td>323</td>\n",
       "      <td>3189</td>\n",
       "    </tr>\n",
       "    <tr>\n",
       "      <th>29</th>\n",
       "      <td>2009/10</td>\n",
       "      <td>1103</td>\n",
       "      <td>4738</td>\n",
       "      <td>255</td>\n",
       "      <td>6435</td>\n",
       "      <td>244</td>\n",
       "      <td>1958</td>\n",
       "    </tr>\n",
       "    <tr>\n",
       "      <th>30</th>\n",
       "      <td>2010/11</td>\n",
       "      <td>1053</td>\n",
       "      <td>4521</td>\n",
       "      <td>265</td>\n",
       "      <td>6593</td>\n",
       "      <td>267</td>\n",
       "      <td>2885</td>\n",
       "    </tr>\n",
       "    <tr>\n",
       "      <th>31</th>\n",
       "      <td>2011/12</td>\n",
       "      <td>1285</td>\n",
       "      <td>5500</td>\n",
       "      <td>339</td>\n",
       "      <td>7630</td>\n",
       "      <td>379</td>\n",
       "      <td>5261</td>\n",
       "    </tr>\n",
       "    <tr>\n",
       "      <th>32</th>\n",
       "      <td>2012/13</td>\n",
       "      <td>1090</td>\n",
       "      <td>5329</td>\n",
       "      <td>350</td>\n",
       "      <td>9615</td>\n",
       "      <td>187</td>\n",
       "      <td>1797</td>\n",
       "    </tr>\n",
       "  </tbody>\n",
       "</table>\n",
       "</div>"
      ],
      "text/plain": [
       "   Water Year  Rain (mm) Oct-Sep  Outflow (m3/s) Oct-Sep  Rain (mm) Dec-Feb  Outflow (m3/s) Dec-Feb  Rain (mm) Jun-Aug  Outflow (m3/s) Jun-Aug\n",
       "28    2008/09               1139                    4941                268                    6690                323                    3189\n",
       "29    2009/10               1103                    4738                255                    6435                244                    1958\n",
       "30    2010/11               1053                    4521                265                    6593                267                    2885\n",
       "31    2011/12               1285                    5500                339                    7630                379                    5261\n",
       "32    2012/13               1090                    5329                350                    9615                187                    1797"
      ]
     },
     "execution_count": 6,
     "metadata": {},
     "output_type": "execute_result"
    }
   ],
   "source": [
    "# Getting last x rows.\n",
    "df.tail(5)"
   ]
  },
  {
   "cell_type": "markdown",
   "metadata": {},
   "source": [
    "## 3.3 修改列名\n",
    "你通常使用列的名字来在 blackhole 中查找列，但是有时列名太长，比如上面的“Rain (mm) Oct-Sep”，使用还挺麻烦，你可以把列名缩短之后一切就方便多了。"
   ]
  },
  {
   "cell_type": "code",
   "execution_count": 7,
   "metadata": {},
   "outputs": [
    {
     "data": {
      "text/html": [
       "<div>\n",
       "<style scoped>\n",
       "    .dataframe tbody tr th:only-of-type {\n",
       "        vertical-align: middle;\n",
       "    }\n",
       "\n",
       "    .dataframe tbody tr th {\n",
       "        vertical-align: top;\n",
       "    }\n",
       "\n",
       "    .dataframe thead th {\n",
       "        text-align: right;\n",
       "    }\n",
       "</style>\n",
       "<table border=\"1\" class=\"dataframe\">\n",
       "  <thead>\n",
       "    <tr style=\"text-align: right;\">\n",
       "      <th></th>\n",
       "      <th>water_year</th>\n",
       "      <th>rain_octsep</th>\n",
       "      <th>outflow_octsep</th>\n",
       "      <th>rain_decfeb</th>\n",
       "      <th>outflow_decfeb</th>\n",
       "      <th>rain_junaug</th>\n",
       "      <th>outflow_junaug</th>\n",
       "    </tr>\n",
       "  </thead>\n",
       "  <tbody>\n",
       "    <tr>\n",
       "      <th>0</th>\n",
       "      <td>1980/81</td>\n",
       "      <td>1182</td>\n",
       "      <td>5408</td>\n",
       "      <td>292</td>\n",
       "      <td>7248</td>\n",
       "      <td>174</td>\n",
       "      <td>2212</td>\n",
       "    </tr>\n",
       "    <tr>\n",
       "      <th>1</th>\n",
       "      <td>1981/82</td>\n",
       "      <td>1098</td>\n",
       "      <td>5112</td>\n",
       "      <td>257</td>\n",
       "      <td>7316</td>\n",
       "      <td>242</td>\n",
       "      <td>1936</td>\n",
       "    </tr>\n",
       "    <tr>\n",
       "      <th>2</th>\n",
       "      <td>1982/83</td>\n",
       "      <td>1156</td>\n",
       "      <td>5701</td>\n",
       "      <td>330</td>\n",
       "      <td>8567</td>\n",
       "      <td>124</td>\n",
       "      <td>1802</td>\n",
       "    </tr>\n",
       "    <tr>\n",
       "      <th>3</th>\n",
       "      <td>1983/84</td>\n",
       "      <td>993</td>\n",
       "      <td>4265</td>\n",
       "      <td>391</td>\n",
       "      <td>8905</td>\n",
       "      <td>141</td>\n",
       "      <td>1078</td>\n",
       "    </tr>\n",
       "    <tr>\n",
       "      <th>4</th>\n",
       "      <td>1984/85</td>\n",
       "      <td>1182</td>\n",
       "      <td>5364</td>\n",
       "      <td>217</td>\n",
       "      <td>5813</td>\n",
       "      <td>343</td>\n",
       "      <td>4313</td>\n",
       "    </tr>\n",
       "  </tbody>\n",
       "</table>\n",
       "</div>"
      ],
      "text/plain": [
       "  water_year  rain_octsep  outflow_octsep  rain_decfeb  outflow_decfeb  rain_junaug  outflow_junaug\n",
       "0    1980/81         1182            5408          292            7248          174            2212\n",
       "1    1981/82         1098            5112          257            7316          242            1936\n",
       "2    1982/83         1156            5701          330            8567          124            1802\n",
       "3    1983/84          993            4265          391            8905          141            1078\n",
       "4    1984/85         1182            5364          217            5813          343            4313"
      ]
     },
     "execution_count": 7,
     "metadata": {},
     "output_type": "execute_result"
    }
   ],
   "source": [
    "# Changing column labels.\n",
    "df.columns = ['water_year','rain_octsep', 'outflow_octsep',\n",
    "              'rain_decfeb', 'outflow_decfeb', 'rain_junaug', 'outflow_junaug']\n",
    "\n",
    "df.head(5)"
   ]
  },
  {
   "cell_type": "markdown",
   "metadata": {},
   "source": [
    "## 3.4 数据查看\n",
    "你通常会想快速浏览数据集，比如查看数据有多少行、多少列，以及每列类型等，可以通过 **info**方法。  \n",
    "看下面执行结果，就知道这个数据集有33行*7列。"
   ]
  },
  {
   "cell_type": "code",
   "execution_count": 34,
   "metadata": {},
   "outputs": [
    {
     "name": "stdout",
     "output_type": "stream",
     "text": [
      "<class 'blackhole.dataframe.frame.DataFrame'>\n",
      "Index: 33 entries, 0 to 32\n",
      "Data columns (total 8 columns):\n",
      " #   Column          Non-Null Count  Dtype \n",
      "---  ------          --------------  ----- \n",
      " 0   water_year      33 non-null     object\n",
      " 1   rain_octsep     33 non-null     int32 \n",
      " 2   outflow_octsep  33 non-null     int32 \n",
      " 3   rain_decfeb     33 non-null     int32 \n",
      " 4   outflow_decfeb  33 non-null     int32 \n",
      " 5   rain_junaug     33 non-null     int32 \n",
      " 6   outflow_junaug  33 non-null     int32 \n",
      " 7   year            33 non-null     int32 \n",
      "dtypes: int32(7), object(1)"
     ]
    },
    {
     "name": "stderr",
     "output_type": "stream",
     "text": [
      "/root/miniconda3/envs/blackhole_python3.7.9/lib/python3.7/site-packages/blackhole/dataframe/generic.py:659: UserWarning: We recommend using `Series.to_numpy()` instead.\n",
      "  warnings.warn('We recommend using `{}.to_numpy()` instead.'.format(type(self).__name__))\n"
     ]
    }
   ],
   "source": [
    "df.info()"
   ]
  },
  {
   "cell_type": "markdown",
   "metadata": {},
   "source": [
    "## 3.5 数据统计\n",
    "你可能还想知道数据集的一些基本的统计信息，可以通过 **describe** 方法。describe将返回一张表，其中有诸如总数、均值、标准差之类的统计数据："
   ]
  },
  {
   "cell_type": "code",
   "execution_count": 35,
   "metadata": {},
   "outputs": [
    {
     "name": "stderr",
     "output_type": "stream",
     "text": [
      "/root/miniconda3/envs/blackhole_python3.7.9/lib/python3.7/site-packages/blackhole/dataframe/indexes.py:486: UserWarning: We recommend using `Index.to_numpy()` instead.\n",
      "  warnings.warn('We recommend using `{}.to_numpy()` instead.'.format(type(self).__name__))\n"
     ]
    },
    {
     "data": {
      "text/html": [
       "<div>\n",
       "<style scoped>\n",
       "    .dataframe tbody tr th:only-of-type {\n",
       "        vertical-align: middle;\n",
       "    }\n",
       "\n",
       "    .dataframe tbody tr th {\n",
       "        vertical-align: top;\n",
       "    }\n",
       "\n",
       "    .dataframe thead th {\n",
       "        text-align: right;\n",
       "    }\n",
       "</style>\n",
       "<table border=\"1\" class=\"dataframe\">\n",
       "  <thead>\n",
       "    <tr style=\"text-align: right;\">\n",
       "      <th></th>\n",
       "      <th>rain_octsep</th>\n",
       "      <th>outflow_octsep</th>\n",
       "      <th>rain_decfeb</th>\n",
       "      <th>outflow_decfeb</th>\n",
       "      <th>rain_junaug</th>\n",
       "      <th>outflow_junaug</th>\n",
       "      <th>year</th>\n",
       "    </tr>\n",
       "  </thead>\n",
       "  <tbody>\n",
       "    <tr>\n",
       "      <th>count</th>\n",
       "      <td>33.000000</td>\n",
       "      <td>33.000000</td>\n",
       "      <td>33.000000</td>\n",
       "      <td>33.000000</td>\n",
       "      <td>33.000000</td>\n",
       "      <td>33.000000</td>\n",
       "      <td>33.00000</td>\n",
       "    </tr>\n",
       "    <tr>\n",
       "      <th>mean</th>\n",
       "      <td>1129.000000</td>\n",
       "      <td>5019.181818</td>\n",
       "      <td>325.363636</td>\n",
       "      <td>7926.545455</td>\n",
       "      <td>237.484848</td>\n",
       "      <td>2439.757576</td>\n",
       "      <td>1996.00000</td>\n",
       "    </tr>\n",
       "    <tr>\n",
       "      <th>std</th>\n",
       "      <td>101.900074</td>\n",
       "      <td>658.587762</td>\n",
       "      <td>69.995008</td>\n",
       "      <td>1692.800049</td>\n",
       "      <td>66.167931</td>\n",
       "      <td>1025.914106</td>\n",
       "      <td>9.66954</td>\n",
       "    </tr>\n",
       "    <tr>\n",
       "      <th>min</th>\n",
       "      <td>856.000000</td>\n",
       "      <td>3479.000000</td>\n",
       "      <td>206.000000</td>\n",
       "      <td>4578.000000</td>\n",
       "      <td>103.000000</td>\n",
       "      <td>1078.000000</td>\n",
       "      <td>1980.00000</td>\n",
       "    </tr>\n",
       "    <tr>\n",
       "      <th>25%</th>\n",
       "      <td>1053.000000</td>\n",
       "      <td>4506.000000</td>\n",
       "      <td>268.000000</td>\n",
       "      <td>6690.000000</td>\n",
       "      <td>193.000000</td>\n",
       "      <td>1797.000000</td>\n",
       "      <td>1988.00000</td>\n",
       "    </tr>\n",
       "    <tr>\n",
       "      <th>50%</th>\n",
       "      <td>1139.000000</td>\n",
       "      <td>5112.000000</td>\n",
       "      <td>309.000000</td>\n",
       "      <td>7630.000000</td>\n",
       "      <td>229.000000</td>\n",
       "      <td>2142.000000</td>\n",
       "      <td>1996.00000</td>\n",
       "    </tr>\n",
       "    <tr>\n",
       "      <th>75%</th>\n",
       "      <td>1182.000000</td>\n",
       "      <td>5497.000000</td>\n",
       "      <td>360.000000</td>\n",
       "      <td>8905.000000</td>\n",
       "      <td>280.000000</td>\n",
       "      <td>2959.000000</td>\n",
       "      <td>2004.00000</td>\n",
       "    </tr>\n",
       "    <tr>\n",
       "      <th>max</th>\n",
       "      <td>1387.000000</td>\n",
       "      <td>6391.000000</td>\n",
       "      <td>484.000000</td>\n",
       "      <td>11486.000000</td>\n",
       "      <td>379.000000</td>\n",
       "      <td>5261.000000</td>\n",
       "      <td>2012.00000</td>\n",
       "    </tr>\n",
       "  </tbody>\n",
       "</table>\n",
       "</div>"
      ],
      "text/plain": [
       "       rain_octsep  outflow_octsep  rain_decfeb  outflow_decfeb  rain_junaug  outflow_junaug        year\n",
       "count    33.000000       33.000000    33.000000       33.000000    33.000000       33.000000    33.00000\n",
       "mean   1129.000000     5019.181818   325.363636     7926.545455   237.484848     2439.757576  1996.00000\n",
       "std     101.900074      658.587762    69.995008     1692.800049    66.167931     1025.914106     9.66954\n",
       "min     856.000000     3479.000000   206.000000     4578.000000   103.000000     1078.000000  1980.00000\n",
       "25%    1053.000000     4506.000000   268.000000     6690.000000   193.000000     1797.000000  1988.00000\n",
       "50%    1139.000000     5112.000000   309.000000     7630.000000   229.000000     2142.000000  1996.00000\n",
       "75%    1182.000000     5497.000000   360.000000     8905.000000   280.000000     2959.000000  2004.00000\n",
       "max    1387.000000     6391.000000   484.000000    11486.000000   379.000000     5261.000000  2012.00000"
      ]
     },
     "execution_count": 35,
     "metadata": {},
     "output_type": "execute_result"
    }
   ],
   "source": [
    "df.describe()"
   ]
  },
  {
   "cell_type": "markdown",
   "metadata": {},
   "source": [
    "## 3.6 过滤"
   ]
  },
  {
   "cell_type": "markdown",
   "metadata": {},
   "source": [
    "（1）有时你想提取一整列，使用列的标签可以非常简单地做到，当我们提取列的时候，**会得到一个 series** ，而不是 dataframe 。记得我们前面提到过，你可以把 **dataframe 看作是一个 series 的字典**，所以在抽取列的时候，我们就会得到一个 series。"
   ]
  },
  {
   "cell_type": "code",
   "execution_count": 12,
   "metadata": {},
   "outputs": [
    {
     "data": {
      "text/plain": [
       "0    1182\n",
       "1    1098\n",
       "2    1156\n",
       "3     993\n",
       "4    1182\n",
       "Name: rain_octsep, dtype: int32"
      ]
     },
     "execution_count": 12,
     "metadata": {},
     "output_type": "execute_result"
    }
   ],
   "source": [
    "df['rain_octsep'][:5]"
   ]
  },
  {
   "cell_type": "markdown",
   "metadata": {},
   "source": [
    "（2）我们也可以像访问对象属性一样访问数据集的列：**只用一个点号**。"
   ]
  },
  {
   "cell_type": "code",
   "execution_count": 13,
   "metadata": {},
   "outputs": [
    {
     "data": {
      "text/plain": [
       "0    1182\n",
       "1    1098\n",
       "2    1156\n",
       "3     993\n",
       "4    1182\n",
       "Name: rain_octsep, dtype: int32"
      ]
     },
     "execution_count": 13,
     "metadata": {},
     "output_type": "execute_result"
    }
   ],
   "source": [
    "# Getting a column by label using .\n",
    "df.rain_octsep[:5]"
   ]
  },
  {
   "cell_type": "markdown",
   "metadata": {},
   "source": [
    "（3）还可以通过 **布尔过滤（boolean masking）**的技术，得到一个*布林数组*，借助布林数组来过滤。  \n",
    "    下面代码将会返回一个由布尔值构成的 Series。True 表示在十月-九月降雨量小于 1000 mm，False 表示大于等于 1000 mm"
   ]
  },
  {
   "cell_type": "code",
   "execution_count": 14,
   "metadata": {},
   "outputs": [
    {
     "data": {
      "text/plain": [
       "0    False\n",
       "1    False\n",
       "2    False\n",
       "3     True\n",
       "4    False\n",
       "Name: rain_octsep, dtype: bool"
      ]
     },
     "execution_count": 14,
     "metadata": {},
     "output_type": "execute_result"
    }
   ],
   "source": [
    "# Creating a series of booleans based on a conditional\n",
    "df.rain_octsep[:5] < 1000 # Or df['rain_octsep] < 1000"
   ]
  },
  {
   "cell_type": "code",
   "execution_count": 15,
   "metadata": {},
   "outputs": [
    {
     "data": {
      "text/html": [
       "<div>\n",
       "<style scoped>\n",
       "    .dataframe tbody tr th:only-of-type {\n",
       "        vertical-align: middle;\n",
       "    }\n",
       "\n",
       "    .dataframe tbody tr th {\n",
       "        vertical-align: top;\n",
       "    }\n",
       "\n",
       "    .dataframe thead th {\n",
       "        text-align: right;\n",
       "    }\n",
       "</style>\n",
       "<table border=\"1\" class=\"dataframe\">\n",
       "  <thead>\n",
       "    <tr style=\"text-align: right;\">\n",
       "      <th></th>\n",
       "      <th>water_year</th>\n",
       "      <th>rain_octsep</th>\n",
       "      <th>outflow_octsep</th>\n",
       "      <th>rain_decfeb</th>\n",
       "      <th>outflow_decfeb</th>\n",
       "      <th>rain_junaug</th>\n",
       "      <th>outflow_junaug</th>\n",
       "    </tr>\n",
       "  </thead>\n",
       "  <tbody>\n",
       "    <tr>\n",
       "      <th>3</th>\n",
       "      <td>1983/84</td>\n",
       "      <td>993</td>\n",
       "      <td>4265</td>\n",
       "      <td>391</td>\n",
       "      <td>8905</td>\n",
       "      <td>141</td>\n",
       "      <td>1078</td>\n",
       "    </tr>\n",
       "    <tr>\n",
       "      <th>8</th>\n",
       "      <td>1988/89</td>\n",
       "      <td>976</td>\n",
       "      <td>4330</td>\n",
       "      <td>309</td>\n",
       "      <td>6465</td>\n",
       "      <td>200</td>\n",
       "      <td>1440</td>\n",
       "    </tr>\n",
       "    <tr>\n",
       "      <th>15</th>\n",
       "      <td>1995/96</td>\n",
       "      <td>856</td>\n",
       "      <td>3479</td>\n",
       "      <td>245</td>\n",
       "      <td>5515</td>\n",
       "      <td>172</td>\n",
       "      <td>1439</td>\n",
       "    </tr>\n",
       "  </tbody>\n",
       "</table>\n",
       "</div>"
      ],
      "text/plain": [
       "   water_year  rain_octsep  outflow_octsep  rain_decfeb  outflow_decfeb  rain_junaug  outflow_junaug\n",
       "3     1983/84          993            4265          391            8905          141            1078\n",
       "8     1988/89          976            4330          309            6465          200            1440\n",
       "15    1995/96          856            3479          245            5515          172            1439"
      ]
     },
     "execution_count": 15,
     "metadata": {},
     "output_type": "execute_result"
    }
   ],
   "source": [
    "# Using a series of booleans to filter\n",
    "df[df.rain_octsep < 1000]"
   ]
  },
  {
   "cell_type": "markdown",
   "metadata": {},
   "source": [
    "(4) 还可以通过复杂表达式来进行过滤，下面这行代码只会返回“rain_octsep小于1000和outflow_octsep小于4000”的记录。  \n",
    "***注意：这里不能用 and 关键字，因为会引发操作顺序的问题，必须用 & 和圆括号。***"
   ]
  },
  {
   "cell_type": "code",
   "execution_count": 36,
   "metadata": {},
   "outputs": [
    {
     "data": {
      "text/html": [
       "<div>\n",
       "<style scoped>\n",
       "    .dataframe tbody tr th:only-of-type {\n",
       "        vertical-align: middle;\n",
       "    }\n",
       "\n",
       "    .dataframe tbody tr th {\n",
       "        vertical-align: top;\n",
       "    }\n",
       "\n",
       "    .dataframe thead th {\n",
       "        text-align: right;\n",
       "    }\n",
       "</style>\n",
       "<table border=\"1\" class=\"dataframe\">\n",
       "  <thead>\n",
       "    <tr style=\"text-align: right;\">\n",
       "      <th></th>\n",
       "      <th>water_year</th>\n",
       "      <th>rain_octsep</th>\n",
       "      <th>outflow_octsep</th>\n",
       "      <th>rain_decfeb</th>\n",
       "      <th>outflow_decfeb</th>\n",
       "      <th>rain_junaug</th>\n",
       "      <th>outflow_junaug</th>\n",
       "      <th>year</th>\n",
       "    </tr>\n",
       "  </thead>\n",
       "  <tbody>\n",
       "    <tr>\n",
       "      <th>15</th>\n",
       "      <td>1995/96</td>\n",
       "      <td>856</td>\n",
       "      <td>3479</td>\n",
       "      <td>245</td>\n",
       "      <td>5515</td>\n",
       "      <td>172</td>\n",
       "      <td>1439</td>\n",
       "      <td>1995</td>\n",
       "    </tr>\n",
       "  </tbody>\n",
       "</table>\n",
       "</div>"
      ],
      "text/plain": [
       "   water_year  rain_octsep  outflow_octsep  rain_decfeb  outflow_decfeb  rain_junaug  outflow_junaug  year\n",
       "15    1995/96          856            3479          245            5515          172            1439  1995"
      ]
     },
     "execution_count": 36,
     "metadata": {},
     "output_type": "execute_result"
    }
   ],
   "source": [
    "# Filtering by multiple conditionals\n",
    "# Can't use the keyword 'and'\n",
    "df[(df.rain_octsep < 1000) & (df.outflow_octsep < 4000)] "
   ]
  },
  {
   "cell_type": "markdown",
   "metadata": {},
   "source": [
    "(5) 如果你的数据中如果有字符串类型，你也可以使用字符串方法来进行过滤。比如下面的代码返回所有 90 年代的记录。  \n",
    "***注意，你必须用 .str.[string method] ，而不能直接在字符串上调用字符方法***"
   ]
  },
  {
   "cell_type": "code",
   "execution_count": 37,
   "metadata": {},
   "outputs": [
    {
     "data": {
      "text/html": [
       "<div>\n",
       "<style scoped>\n",
       "    .dataframe tbody tr th:only-of-type {\n",
       "        vertical-align: middle;\n",
       "    }\n",
       "\n",
       "    .dataframe tbody tr th {\n",
       "        vertical-align: top;\n",
       "    }\n",
       "\n",
       "    .dataframe thead th {\n",
       "        text-align: right;\n",
       "    }\n",
       "</style>\n",
       "<table border=\"1\" class=\"dataframe\">\n",
       "  <thead>\n",
       "    <tr style=\"text-align: right;\">\n",
       "      <th></th>\n",
       "      <th>water_year</th>\n",
       "      <th>rain_octsep</th>\n",
       "      <th>outflow_octsep</th>\n",
       "      <th>rain_decfeb</th>\n",
       "      <th>outflow_decfeb</th>\n",
       "      <th>rain_junaug</th>\n",
       "      <th>outflow_junaug</th>\n",
       "      <th>year</th>\n",
       "    </tr>\n",
       "  </thead>\n",
       "  <tbody>\n",
       "    <tr>\n",
       "      <th>10</th>\n",
       "      <td>1990/91</td>\n",
       "      <td>1022</td>\n",
       "      <td>4418</td>\n",
       "      <td>305</td>\n",
       "      <td>7120</td>\n",
       "      <td>216</td>\n",
       "      <td>1923</td>\n",
       "      <td>1990</td>\n",
       "    </tr>\n",
       "    <tr>\n",
       "      <th>11</th>\n",
       "      <td>1991/92</td>\n",
       "      <td>1151</td>\n",
       "      <td>4506</td>\n",
       "      <td>246</td>\n",
       "      <td>5493</td>\n",
       "      <td>280</td>\n",
       "      <td>2118</td>\n",
       "      <td>1991</td>\n",
       "    </tr>\n",
       "    <tr>\n",
       "      <th>12</th>\n",
       "      <td>1992/93</td>\n",
       "      <td>1130</td>\n",
       "      <td>5246</td>\n",
       "      <td>308</td>\n",
       "      <td>8751</td>\n",
       "      <td>219</td>\n",
       "      <td>2551</td>\n",
       "      <td>1992</td>\n",
       "    </tr>\n",
       "    <tr>\n",
       "      <th>13</th>\n",
       "      <td>1993/94</td>\n",
       "      <td>1162</td>\n",
       "      <td>5583</td>\n",
       "      <td>422</td>\n",
       "      <td>10109</td>\n",
       "      <td>193</td>\n",
       "      <td>1638</td>\n",
       "      <td>1993</td>\n",
       "    </tr>\n",
       "    <tr>\n",
       "      <th>14</th>\n",
       "      <td>1994/95</td>\n",
       "      <td>1110</td>\n",
       "      <td>5370</td>\n",
       "      <td>484</td>\n",
       "      <td>11486</td>\n",
       "      <td>103</td>\n",
       "      <td>1231</td>\n",
       "      <td>1994</td>\n",
       "    </tr>\n",
       "    <tr>\n",
       "      <th>15</th>\n",
       "      <td>1995/96</td>\n",
       "      <td>856</td>\n",
       "      <td>3479</td>\n",
       "      <td>245</td>\n",
       "      <td>5515</td>\n",
       "      <td>172</td>\n",
       "      <td>1439</td>\n",
       "      <td>1995</td>\n",
       "    </tr>\n",
       "    <tr>\n",
       "      <th>16</th>\n",
       "      <td>1996/97</td>\n",
       "      <td>1047</td>\n",
       "      <td>4019</td>\n",
       "      <td>258</td>\n",
       "      <td>5770</td>\n",
       "      <td>256</td>\n",
       "      <td>2102</td>\n",
       "      <td>1996</td>\n",
       "    </tr>\n",
       "    <tr>\n",
       "      <th>17</th>\n",
       "      <td>1997/98</td>\n",
       "      <td>1169</td>\n",
       "      <td>4953</td>\n",
       "      <td>341</td>\n",
       "      <td>7747</td>\n",
       "      <td>285</td>\n",
       "      <td>3206</td>\n",
       "      <td>1997</td>\n",
       "    </tr>\n",
       "    <tr>\n",
       "      <th>18</th>\n",
       "      <td>1998/99</td>\n",
       "      <td>1268</td>\n",
       "      <td>5824</td>\n",
       "      <td>360</td>\n",
       "      <td>8771</td>\n",
       "      <td>225</td>\n",
       "      <td>2240</td>\n",
       "      <td>1998</td>\n",
       "    </tr>\n",
       "    <tr>\n",
       "      <th>19</th>\n",
       "      <td>1999/00</td>\n",
       "      <td>1204</td>\n",
       "      <td>5665</td>\n",
       "      <td>417</td>\n",
       "      <td>10021</td>\n",
       "      <td>197</td>\n",
       "      <td>2166</td>\n",
       "      <td>1999</td>\n",
       "    </tr>\n",
       "  </tbody>\n",
       "</table>\n",
       "</div>"
      ],
      "text/plain": [
       "   water_year  rain_octsep  outflow_octsep  rain_decfeb  outflow_decfeb  rain_junaug  outflow_junaug  year\n",
       "10    1990/91         1022            4418          305            7120          216            1923  1990\n",
       "11    1991/92         1151            4506          246            5493          280            2118  1991\n",
       "12    1992/93         1130            5246          308            8751          219            2551  1992\n",
       "13    1993/94         1162            5583          422           10109          193            1638  1993\n",
       "14    1994/95         1110            5370          484           11486          103            1231  1994\n",
       "15    1995/96          856            3479          245            5515          172            1439  1995\n",
       "16    1996/97         1047            4019          258            5770          256            2102  1996\n",
       "17    1997/98         1169            4953          341            7747          285            3206  1997\n",
       "18    1998/99         1268            5824          360            8771          225            2240  1998\n",
       "19    1999/00         1204            5665          417           10021          197            2166  1999"
      ]
     },
     "execution_count": 37,
     "metadata": {},
     "output_type": "execute_result"
    }
   ],
   "source": [
    "# Filtering by string methods\n",
    "df[df.water_year.str.startswith('199')]"
   ]
  },
  {
   "cell_type": "markdown",
   "metadata": {},
   "source": [
    "## 3.7 索引"
   ]
  },
  {
   "cell_type": "markdown",
   "metadata": {},
   "source": [
    "之前的部分展示了如何通过列操作来得到数据，现在介绍下如何通过行标签来获取数据。**Blackhole行标签可以是基于数字的或者是其他类型的标签，根据标签的类型获取数据的方法也有所不同**\n",
    "\n",
    "(1) 如果你的行标签是**数字型**的，你可以通过 ***iloc***来引用，它会返回指定行号的数据，并组装成 ***series***对象返回。"
   ]
  },
  {
   "cell_type": "code",
   "execution_count": 40,
   "metadata": {},
   "outputs": [
    {
     "data": {
      "text/plain": [
       "water_year        2010/11\n",
       "rain_octsep          1053\n",
       "outflow_octsep       4521\n",
       "rain_decfeb           265\n",
       "outflow_decfeb       6593\n",
       "rain_junaug           267\n",
       "outflow_junaug       2885\n",
       "year                 2010\n",
       "Name: 0, dtype: object"
      ]
     },
     "execution_count": 40,
     "metadata": {},
     "output_type": "execute_result"
    }
   ],
   "source": [
    "# Getting a row via a numerical index\n",
    "df.iloc[30]"
   ]
  },
  {
   "cell_type": "markdown",
   "metadata": {},
   "source": [
    "(2) 如果不是数字型的，比如也许你的数据集中有年份或者年龄的列，你可能想通过这些年份或者年龄来引用行，这个时候我们就可以设置一个（或者多个）新的索引："
   ]
  },
  {
   "cell_type": "code",
   "execution_count": 19,
   "metadata": {},
   "outputs": [
    {
     "data": {
      "text/html": [
       "<div>\n",
       "<style scoped>\n",
       "    .dataframe tbody tr th:only-of-type {\n",
       "        vertical-align: middle;\n",
       "    }\n",
       "\n",
       "    .dataframe tbody tr th {\n",
       "        vertical-align: top;\n",
       "    }\n",
       "\n",
       "    .dataframe thead th {\n",
       "        text-align: right;\n",
       "    }\n",
       "</style>\n",
       "<table border=\"1\" class=\"dataframe\">\n",
       "  <thead>\n",
       "    <tr style=\"text-align: right;\">\n",
       "      <th></th>\n",
       "      <th>rain_octsep</th>\n",
       "      <th>outflow_octsep</th>\n",
       "      <th>rain_decfeb</th>\n",
       "      <th>outflow_decfeb</th>\n",
       "      <th>rain_junaug</th>\n",
       "      <th>outflow_junaug</th>\n",
       "    </tr>\n",
       "    <tr>\n",
       "      <th>water_year</th>\n",
       "      <th></th>\n",
       "      <th></th>\n",
       "      <th></th>\n",
       "      <th></th>\n",
       "      <th></th>\n",
       "      <th></th>\n",
       "    </tr>\n",
       "  </thead>\n",
       "  <tbody>\n",
       "    <tr>\n",
       "      <th>1980/81</th>\n",
       "      <td>1182</td>\n",
       "      <td>5408</td>\n",
       "      <td>292</td>\n",
       "      <td>7248</td>\n",
       "      <td>174</td>\n",
       "      <td>2212</td>\n",
       "    </tr>\n",
       "    <tr>\n",
       "      <th>1981/82</th>\n",
       "      <td>1098</td>\n",
       "      <td>5112</td>\n",
       "      <td>257</td>\n",
       "      <td>7316</td>\n",
       "      <td>242</td>\n",
       "      <td>1936</td>\n",
       "    </tr>\n",
       "    <tr>\n",
       "      <th>1982/83</th>\n",
       "      <td>1156</td>\n",
       "      <td>5701</td>\n",
       "      <td>330</td>\n",
       "      <td>8567</td>\n",
       "      <td>124</td>\n",
       "      <td>1802</td>\n",
       "    </tr>\n",
       "    <tr>\n",
       "      <th>1983/84</th>\n",
       "      <td>993</td>\n",
       "      <td>4265</td>\n",
       "      <td>391</td>\n",
       "      <td>8905</td>\n",
       "      <td>141</td>\n",
       "      <td>1078</td>\n",
       "    </tr>\n",
       "    <tr>\n",
       "      <th>1984/85</th>\n",
       "      <td>1182</td>\n",
       "      <td>5364</td>\n",
       "      <td>217</td>\n",
       "      <td>5813</td>\n",
       "      <td>343</td>\n",
       "      <td>4313</td>\n",
       "    </tr>\n",
       "  </tbody>\n",
       "</table>\n",
       "</div>"
      ],
      "text/plain": [
       "            rain_octsep  outflow_octsep  rain_decfeb  outflow_decfeb  rain_junaug  outflow_junaug\n",
       "water_year                                                                                       \n",
       "1980/81            1182            5408          292            7248          174            2212\n",
       "1981/82            1098            5112          257            7316          242            1936\n",
       "1982/83            1156            5701          330            8567          124            1802\n",
       "1983/84             993            4265          391            8905          141            1078\n",
       "1984/85            1182            5364          217            5813          343            4313"
      ]
     },
     "execution_count": 19,
     "metadata": {},
     "output_type": "execute_result"
    }
   ],
   "source": [
    "#Setting a new index from an existing column\n",
    "df = df.set_index(['water_year'])\n",
    "df.head(5)"
   ]
  },
  {
   "cell_type": "markdown",
   "metadata": {},
   "source": [
    "上面的代码将 water_year 列设置为索引。***注意，列的名字实际上是一个列表***，虽然上面的例子中只有一个元素。如果你想设置多个索引，只需要在列表中加入列的名字即可。"
   ]
  },
  {
   "cell_type": "markdown",
   "metadata": {},
   "source": [
    "上例中我们设置的索引列中都是字符型数据，这意味着我们不能继续使用 iloc 来引用，那我们用什么呢？用 loc 。"
   ]
  },
  {
   "cell_type": "code",
   "execution_count": 20,
   "metadata": {},
   "outputs": [
    {
     "data": {
      "text/plain": [
       "1239"
      ]
     },
     "execution_count": 20,
     "metadata": {},
     "output_type": "execute_result"
    }
   ],
   "source": [
    "# Getting a row via a label-based index\n",
    "df.loc['2000/01']"
   ]
  },
  {
   "cell_type": "markdown",
   "metadata": {},
   "source": [
    "和 ***iloc*** 一样，***loc*** 会返回你引用的列，唯一一点不同就是此时你使用的是基于字符串的引用，而不是基于数字的。"
   ]
  },
  {
   "cell_type": "markdown",
   "metadata": {},
   "source": [
    "## 3.8 排序"
   ]
  },
  {
   "cell_type": "markdown",
   "metadata": {},
   "source": [
    "排序通常会很有用，在 blackhole 中，我们可以对 dataframe 调用 sort_values 方法进行排序。"
   ]
  },
  {
   "cell_type": "code",
   "execution_count": 21,
   "metadata": {},
   "outputs": [
    {
     "data": {
      "text/html": [
       "<div>\n",
       "<style scoped>\n",
       "    .dataframe tbody tr th:only-of-type {\n",
       "        vertical-align: middle;\n",
       "    }\n",
       "\n",
       "    .dataframe tbody tr th {\n",
       "        vertical-align: top;\n",
       "    }\n",
       "\n",
       "    .dataframe thead th {\n",
       "        text-align: right;\n",
       "    }\n",
       "</style>\n",
       "<table border=\"1\" class=\"dataframe\">\n",
       "  <thead>\n",
       "    <tr style=\"text-align: right;\">\n",
       "      <th></th>\n",
       "      <th>rain_octsep</th>\n",
       "      <th>outflow_octsep</th>\n",
       "      <th>rain_decfeb</th>\n",
       "      <th>outflow_decfeb</th>\n",
       "      <th>rain_junaug</th>\n",
       "      <th>outflow_junaug</th>\n",
       "    </tr>\n",
       "    <tr>\n",
       "      <th>water_year</th>\n",
       "      <th></th>\n",
       "      <th></th>\n",
       "      <th></th>\n",
       "      <th></th>\n",
       "      <th></th>\n",
       "      <th></th>\n",
       "    </tr>\n",
       "  </thead>\n",
       "  <tbody>\n",
       "    <tr>\n",
       "      <th>1995/96</th>\n",
       "      <td>856</td>\n",
       "      <td>3479</td>\n",
       "      <td>245</td>\n",
       "      <td>5515</td>\n",
       "      <td>172</td>\n",
       "      <td>1439</td>\n",
       "    </tr>\n",
       "    <tr>\n",
       "      <th>1988/89</th>\n",
       "      <td>976</td>\n",
       "      <td>4330</td>\n",
       "      <td>309</td>\n",
       "      <td>6465</td>\n",
       "      <td>200</td>\n",
       "      <td>1440</td>\n",
       "    </tr>\n",
       "    <tr>\n",
       "      <th>1983/84</th>\n",
       "      <td>993</td>\n",
       "      <td>4265</td>\n",
       "      <td>391</td>\n",
       "      <td>8905</td>\n",
       "      <td>141</td>\n",
       "      <td>1078</td>\n",
       "    </tr>\n",
       "    <tr>\n",
       "      <th>2002/03</th>\n",
       "      <td>1021</td>\n",
       "      <td>4366</td>\n",
       "      <td>272</td>\n",
       "      <td>7093</td>\n",
       "      <td>176</td>\n",
       "      <td>1478</td>\n",
       "    </tr>\n",
       "    <tr>\n",
       "      <th>1990/91</th>\n",
       "      <td>1022</td>\n",
       "      <td>4418</td>\n",
       "      <td>305</td>\n",
       "      <td>7120</td>\n",
       "      <td>216</td>\n",
       "      <td>1923</td>\n",
       "    </tr>\n",
       "  </tbody>\n",
       "</table>\n",
       "</div>"
      ],
      "text/plain": [
       "            rain_octsep  outflow_octsep  rain_decfeb  outflow_decfeb  rain_junaug  outflow_junaug\n",
       "water_year                                                                                       \n",
       "1995/96             856            3479          245            5515          172            1439\n",
       "1988/89             976            4330          309            6465          200            1440\n",
       "1983/84             993            4265          391            8905          141            1078\n",
       "2002/03            1021            4366          272            7093          176            1478\n",
       "1990/91            1022            4418          305            7120          216            1923"
      ]
     },
     "execution_count": 21,
     "metadata": {},
     "output_type": "execute_result"
    }
   ],
   "source": [
    "# inplace = True to apply the sorting in place\n",
    "df.sort_values(['rain_octsep']).head(5)"
   ]
  },
  {
   "cell_type": "markdown",
   "metadata": {},
   "source": [
    "当你将一列设置为索引的时候，它就不再是数据的一部分了。如果你想将索引恢复为数据，调用 ***set_index*** 相反的方法 ***reset_index*** 即可："
   ]
  },
  {
   "cell_type": "code",
   "execution_count": 22,
   "metadata": {},
   "outputs": [
    {
     "data": {
      "text/html": [
       "<div>\n",
       "<style scoped>\n",
       "    .dataframe tbody tr th:only-of-type {\n",
       "        vertical-align: middle;\n",
       "    }\n",
       "\n",
       "    .dataframe tbody tr th {\n",
       "        vertical-align: top;\n",
       "    }\n",
       "\n",
       "    .dataframe thead th {\n",
       "        text-align: right;\n",
       "    }\n",
       "</style>\n",
       "<table border=\"1\" class=\"dataframe\">\n",
       "  <thead>\n",
       "    <tr style=\"text-align: right;\">\n",
       "      <th></th>\n",
       "      <th>water_year</th>\n",
       "      <th>rain_octsep</th>\n",
       "      <th>outflow_octsep</th>\n",
       "      <th>rain_decfeb</th>\n",
       "      <th>outflow_decfeb</th>\n",
       "      <th>rain_junaug</th>\n",
       "      <th>outflow_junaug</th>\n",
       "    </tr>\n",
       "  </thead>\n",
       "  <tbody>\n",
       "    <tr>\n",
       "      <th>0</th>\n",
       "      <td>1980/81</td>\n",
       "      <td>1182</td>\n",
       "      <td>5408</td>\n",
       "      <td>292</td>\n",
       "      <td>7248</td>\n",
       "      <td>174</td>\n",
       "      <td>2212</td>\n",
       "    </tr>\n",
       "    <tr>\n",
       "      <th>1</th>\n",
       "      <td>1981/82</td>\n",
       "      <td>1098</td>\n",
       "      <td>5112</td>\n",
       "      <td>257</td>\n",
       "      <td>7316</td>\n",
       "      <td>242</td>\n",
       "      <td>1936</td>\n",
       "    </tr>\n",
       "    <tr>\n",
       "      <th>2</th>\n",
       "      <td>1982/83</td>\n",
       "      <td>1156</td>\n",
       "      <td>5701</td>\n",
       "      <td>330</td>\n",
       "      <td>8567</td>\n",
       "      <td>124</td>\n",
       "      <td>1802</td>\n",
       "    </tr>\n",
       "    <tr>\n",
       "      <th>3</th>\n",
       "      <td>1983/84</td>\n",
       "      <td>993</td>\n",
       "      <td>4265</td>\n",
       "      <td>391</td>\n",
       "      <td>8905</td>\n",
       "      <td>141</td>\n",
       "      <td>1078</td>\n",
       "    </tr>\n",
       "    <tr>\n",
       "      <th>4</th>\n",
       "      <td>1984/85</td>\n",
       "      <td>1182</td>\n",
       "      <td>5364</td>\n",
       "      <td>217</td>\n",
       "      <td>5813</td>\n",
       "      <td>343</td>\n",
       "      <td>4313</td>\n",
       "    </tr>\n",
       "  </tbody>\n",
       "</table>\n",
       "</div>"
      ],
      "text/plain": [
       "  water_year  rain_octsep  outflow_octsep  rain_decfeb  outflow_decfeb  rain_junaug  outflow_junaug\n",
       "0    1980/81         1182            5408          292            7248          174            2212\n",
       "1    1981/82         1098            5112          257            7316          242            1936\n",
       "2    1982/83         1156            5701          330            8567          124            1802\n",
       "3    1983/84          993            4265          391            8905          141            1078\n",
       "4    1984/85         1182            5364          217            5813          343            4313"
      ]
     },
     "execution_count": 22,
     "metadata": {},
     "output_type": "execute_result"
    }
   ],
   "source": [
    "# Returning an index to data\n",
    "df = df.reset_index('water_year')\n",
    "df.head(5)"
   ]
  },
  {
   "cell_type": "markdown",
   "metadata": {},
   "source": [
    "## 3.9 删除列"
   ]
  },
  {
   "cell_type": "markdown",
   "metadata": {},
   "source": [
    "有时候，你希望删除一些数据，比如删除某些不需要的列，这时候你可以调用drop函数"
   ]
  },
  {
   "cell_type": "code",
   "execution_count": 23,
   "metadata": {},
   "outputs": [
    {
     "data": {
      "text/html": [
       "<div>\n",
       "<style scoped>\n",
       "    .dataframe tbody tr th:only-of-type {\n",
       "        vertical-align: middle;\n",
       "    }\n",
       "\n",
       "    .dataframe tbody tr th {\n",
       "        vertical-align: top;\n",
       "    }\n",
       "\n",
       "    .dataframe thead th {\n",
       "        text-align: right;\n",
       "    }\n",
       "</style>\n",
       "<table border=\"1\" class=\"dataframe\">\n",
       "  <thead>\n",
       "    <tr style=\"text-align: right;\">\n",
       "      <th></th>\n",
       "      <th>water_year</th>\n",
       "      <th>rain_octsep</th>\n",
       "      <th>outflow_octsep</th>\n",
       "      <th>rain_decfeb</th>\n",
       "      <th>outflow_decfeb</th>\n",
       "      <th>rain_junaug</th>\n",
       "    </tr>\n",
       "  </thead>\n",
       "  <tbody>\n",
       "    <tr>\n",
       "      <th>0</th>\n",
       "      <td>1980/81</td>\n",
       "      <td>1182</td>\n",
       "      <td>5408</td>\n",
       "      <td>292</td>\n",
       "      <td>7248</td>\n",
       "      <td>174</td>\n",
       "    </tr>\n",
       "    <tr>\n",
       "      <th>1</th>\n",
       "      <td>1981/82</td>\n",
       "      <td>1098</td>\n",
       "      <td>5112</td>\n",
       "      <td>257</td>\n",
       "      <td>7316</td>\n",
       "      <td>242</td>\n",
       "    </tr>\n",
       "    <tr>\n",
       "      <th>2</th>\n",
       "      <td>1982/83</td>\n",
       "      <td>1156</td>\n",
       "      <td>5701</td>\n",
       "      <td>330</td>\n",
       "      <td>8567</td>\n",
       "      <td>124</td>\n",
       "    </tr>\n",
       "    <tr>\n",
       "      <th>3</th>\n",
       "      <td>1983/84</td>\n",
       "      <td>993</td>\n",
       "      <td>4265</td>\n",
       "      <td>391</td>\n",
       "      <td>8905</td>\n",
       "      <td>141</td>\n",
       "    </tr>\n",
       "    <tr>\n",
       "      <th>4</th>\n",
       "      <td>1984/85</td>\n",
       "      <td>1182</td>\n",
       "      <td>5364</td>\n",
       "      <td>217</td>\n",
       "      <td>5813</td>\n",
       "      <td>343</td>\n",
       "    </tr>\n",
       "  </tbody>\n",
       "</table>\n",
       "</div>"
      ],
      "text/plain": [
       "  water_year  rain_octsep  outflow_octsep  rain_decfeb  outflow_decfeb  rain_junaug\n",
       "0    1980/81         1182            5408          292            7248          174\n",
       "1    1981/82         1098            5112          257            7316          242\n",
       "2    1982/83         1156            5701          330            8567          124\n",
       "3    1983/84          993            4265          391            8905          141\n",
       "4    1984/85         1182            5364          217            5813          343"
      ]
     },
     "execution_count": 23,
     "metadata": {},
     "output_type": "execute_result"
    }
   ],
   "source": [
    "df.drop(['outflow_junaug'], axis=1).head()"
   ]
  },
  {
   "cell_type": "markdown",
   "metadata": {},
   "source": [
    "## 3.10 缺失值处理"
   ]
  },
  {
   "cell_type": "markdown",
   "metadata": {},
   "source": [
    "有时候数据中有一些缺失值，你希望将其填充某个固定的值来替换缺失值，这时候你可以调用fillna函数，将缺失的值都替换为-1，表示数据缺失"
   ]
  },
  {
   "cell_type": "code",
   "execution_count": 24,
   "metadata": {},
   "outputs": [
    {
     "data": {
      "text/html": [
       "<div>\n",
       "<style scoped>\n",
       "    .dataframe tbody tr th:only-of-type {\n",
       "        vertical-align: middle;\n",
       "    }\n",
       "\n",
       "    .dataframe tbody tr th {\n",
       "        vertical-align: top;\n",
       "    }\n",
       "\n",
       "    .dataframe thead th {\n",
       "        text-align: right;\n",
       "    }\n",
       "</style>\n",
       "<table border=\"1\" class=\"dataframe\">\n",
       "  <thead>\n",
       "    <tr style=\"text-align: right;\">\n",
       "      <th></th>\n",
       "      <th>water_year</th>\n",
       "      <th>rain_octsep</th>\n",
       "      <th>outflow_octsep</th>\n",
       "      <th>rain_decfeb</th>\n",
       "      <th>outflow_decfeb</th>\n",
       "      <th>rain_junaug</th>\n",
       "      <th>outflow_junaug</th>\n",
       "    </tr>\n",
       "  </thead>\n",
       "  <tbody>\n",
       "    <tr>\n",
       "      <th>0</th>\n",
       "      <td>1980/81</td>\n",
       "      <td>1182</td>\n",
       "      <td>5408</td>\n",
       "      <td>292</td>\n",
       "      <td>7248</td>\n",
       "      <td>174</td>\n",
       "      <td>2212</td>\n",
       "    </tr>\n",
       "    <tr>\n",
       "      <th>1</th>\n",
       "      <td>1981/82</td>\n",
       "      <td>1098</td>\n",
       "      <td>5112</td>\n",
       "      <td>257</td>\n",
       "      <td>7316</td>\n",
       "      <td>242</td>\n",
       "      <td>1936</td>\n",
       "    </tr>\n",
       "    <tr>\n",
       "      <th>2</th>\n",
       "      <td>1982/83</td>\n",
       "      <td>1156</td>\n",
       "      <td>5701</td>\n",
       "      <td>330</td>\n",
       "      <td>8567</td>\n",
       "      <td>124</td>\n",
       "      <td>1802</td>\n",
       "    </tr>\n",
       "    <tr>\n",
       "      <th>3</th>\n",
       "      <td>1983/84</td>\n",
       "      <td>993</td>\n",
       "      <td>4265</td>\n",
       "      <td>391</td>\n",
       "      <td>8905</td>\n",
       "      <td>141</td>\n",
       "      <td>1078</td>\n",
       "    </tr>\n",
       "    <tr>\n",
       "      <th>4</th>\n",
       "      <td>1984/85</td>\n",
       "      <td>1182</td>\n",
       "      <td>5364</td>\n",
       "      <td>217</td>\n",
       "      <td>5813</td>\n",
       "      <td>343</td>\n",
       "      <td>4313</td>\n",
       "    </tr>\n",
       "  </tbody>\n",
       "</table>\n",
       "</div>"
      ],
      "text/plain": [
       "  water_year  rain_octsep  outflow_octsep  rain_decfeb  outflow_decfeb  rain_junaug  outflow_junaug\n",
       "0    1980/81         1182            5408          292            7248          174            2212\n",
       "1    1981/82         1098            5112          257            7316          242            1936\n",
       "2    1982/83         1156            5701          330            8567          124            1802\n",
       "3    1983/84          993            4265          391            8905          141            1078\n",
       "4    1984/85         1182            5364          217            5813          343            4313"
      ]
     },
     "execution_count": 24,
     "metadata": {},
     "output_type": "execute_result"
    }
   ],
   "source": [
    "df.fillna(-1).head()"
   ]
  },
  {
   "cell_type": "markdown",
   "metadata": {},
   "source": [
    "## 3.11 对数据集应用函数"
   ]
  },
  {
   "cell_type": "markdown",
   "metadata": {},
   "source": [
    "有时你想对数据集中的数据进行改变或者某种操作。比方说，你有一列年份的数据，你需要新的一列来表示这些年份对应的年代。blackhole 中有两个非常有用的函数*** apply 和 applymap ***。"
   ]
  },
  {
   "cell_type": "code",
   "execution_count": 25,
   "metadata": {},
   "outputs": [
    {
     "data": {
      "text/html": [
       "<div>\n",
       "<style scoped>\n",
       "    .dataframe tbody tr th:only-of-type {\n",
       "        vertical-align: middle;\n",
       "    }\n",
       "\n",
       "    .dataframe tbody tr th {\n",
       "        vertical-align: top;\n",
       "    }\n",
       "\n",
       "    .dataframe thead th {\n",
       "        text-align: right;\n",
       "    }\n",
       "</style>\n",
       "<table border=\"1\" class=\"dataframe\">\n",
       "  <thead>\n",
       "    <tr style=\"text-align: right;\">\n",
       "      <th></th>\n",
       "      <th>water_year</th>\n",
       "      <th>rain_octsep</th>\n",
       "      <th>outflow_octsep</th>\n",
       "      <th>rain_decfeb</th>\n",
       "      <th>outflow_decfeb</th>\n",
       "      <th>rain_junaug</th>\n",
       "      <th>outflow_junaug</th>\n",
       "      <th>year</th>\n",
       "    </tr>\n",
       "  </thead>\n",
       "  <tbody>\n",
       "    <tr>\n",
       "      <th>0</th>\n",
       "      <td>1980/81</td>\n",
       "      <td>1182</td>\n",
       "      <td>5408</td>\n",
       "      <td>292</td>\n",
       "      <td>7248</td>\n",
       "      <td>174</td>\n",
       "      <td>2212</td>\n",
       "      <td>1980</td>\n",
       "    </tr>\n",
       "    <tr>\n",
       "      <th>1</th>\n",
       "      <td>1981/82</td>\n",
       "      <td>1098</td>\n",
       "      <td>5112</td>\n",
       "      <td>257</td>\n",
       "      <td>7316</td>\n",
       "      <td>242</td>\n",
       "      <td>1936</td>\n",
       "      <td>1981</td>\n",
       "    </tr>\n",
       "    <tr>\n",
       "      <th>2</th>\n",
       "      <td>1982/83</td>\n",
       "      <td>1156</td>\n",
       "      <td>5701</td>\n",
       "      <td>330</td>\n",
       "      <td>8567</td>\n",
       "      <td>124</td>\n",
       "      <td>1802</td>\n",
       "      <td>1982</td>\n",
       "    </tr>\n",
       "    <tr>\n",
       "      <th>3</th>\n",
       "      <td>1983/84</td>\n",
       "      <td>993</td>\n",
       "      <td>4265</td>\n",
       "      <td>391</td>\n",
       "      <td>8905</td>\n",
       "      <td>141</td>\n",
       "      <td>1078</td>\n",
       "      <td>1983</td>\n",
       "    </tr>\n",
       "    <tr>\n",
       "      <th>4</th>\n",
       "      <td>1984/85</td>\n",
       "      <td>1182</td>\n",
       "      <td>5364</td>\n",
       "      <td>217</td>\n",
       "      <td>5813</td>\n",
       "      <td>343</td>\n",
       "      <td>4313</td>\n",
       "      <td>1984</td>\n",
       "    </tr>\n",
       "  </tbody>\n",
       "</table>\n",
       "</div>"
      ],
      "text/plain": [
       "  water_year  rain_octsep  outflow_octsep  rain_decfeb  outflow_decfeb  rain_junaug  outflow_junaug  year\n",
       "0    1980/81         1182            5408          292            7248          174            2212  1980\n",
       "1    1981/82         1098            5112          257            7316          242            1936  1981\n",
       "2    1982/83         1156            5701          330            8567          124            1802  1982\n",
       "3    1983/84          993            4265          391            8905          141            1078  1983\n",
       "4    1984/85         1182            5364          217            5813          343            4313  1984"
      ]
     },
     "execution_count": 25,
     "metadata": {},
     "output_type": "execute_result"
    }
   ],
   "source": [
    "# Applying a funciton to a column\n",
    "def base_year(year):\n",
    "    base_year = year[:4]\n",
    "    base_year = pd.to_datetime(base_year).year\n",
    "    return base_year\n",
    "\n",
    "df['year'] = df.water_year.apply(base_year)\n",
    "df.head(5)"
   ]
  },
  {
   "cell_type": "markdown",
   "metadata": {},
   "source": [
    "## 3.12 操作数据集的结构"
   ]
  },
  {
   "cell_type": "markdown",
   "metadata": {},
   "source": [
    "另一常见的做法是重新建立数据结构，使得数据集呈现出一种更方便并且（或者）有用的形式。\n",
    "\n",
    "掌握这些转换最简单的方法就是观察转换的过程。比起这篇文章的其他部分，接下来的操作需要你跟着练习以便能掌握它们。\n",
    "\n",
    "首先，是 ***groupby***：***groupby***会按照你选择的列对数据集进行分组。上例是按照年代分组。不过仅仅这样做并没有什么用，我们必须对其调用函数，比如 max 、 min 、mean 等等。例中，我们可以得到 90 年代的均值。\n",
    "\n"
   ]
  },
  {
   "cell_type": "code",
   "execution_count": 26,
   "metadata": {},
   "outputs": [
    {
     "data": {
      "text/html": [
       "<div>\n",
       "<style scoped>\n",
       "    .dataframe tbody tr th:only-of-type {\n",
       "        vertical-align: middle;\n",
       "    }\n",
       "\n",
       "    .dataframe tbody tr th {\n",
       "        vertical-align: top;\n",
       "    }\n",
       "\n",
       "    .dataframe thead th {\n",
       "        text-align: right;\n",
       "    }\n",
       "</style>\n",
       "<table border=\"1\" class=\"dataframe\">\n",
       "  <thead>\n",
       "    <tr style=\"text-align: right;\">\n",
       "      <th></th>\n",
       "      <th>water_year</th>\n",
       "      <th>rain_octsep</th>\n",
       "      <th>outflow_octsep</th>\n",
       "      <th>rain_decfeb</th>\n",
       "      <th>outflow_decfeb</th>\n",
       "      <th>rain_junaug</th>\n",
       "      <th>outflow_junaug</th>\n",
       "    </tr>\n",
       "    <tr>\n",
       "      <th>year</th>\n",
       "      <th></th>\n",
       "      <th></th>\n",
       "      <th></th>\n",
       "      <th></th>\n",
       "      <th></th>\n",
       "      <th></th>\n",
       "      <th></th>\n",
       "    </tr>\n",
       "  </thead>\n",
       "  <tbody>\n",
       "    <tr>\n",
       "      <th>1980</th>\n",
       "      <td>1980/81</td>\n",
       "      <td>1182</td>\n",
       "      <td>5408</td>\n",
       "      <td>292</td>\n",
       "      <td>7248</td>\n",
       "      <td>174</td>\n",
       "      <td>2212</td>\n",
       "    </tr>\n",
       "    <tr>\n",
       "      <th>1981</th>\n",
       "      <td>1981/82</td>\n",
       "      <td>1098</td>\n",
       "      <td>5112</td>\n",
       "      <td>257</td>\n",
       "      <td>7316</td>\n",
       "      <td>242</td>\n",
       "      <td>1936</td>\n",
       "    </tr>\n",
       "    <tr>\n",
       "      <th>1982</th>\n",
       "      <td>1982/83</td>\n",
       "      <td>1156</td>\n",
       "      <td>5701</td>\n",
       "      <td>330</td>\n",
       "      <td>8567</td>\n",
       "      <td>124</td>\n",
       "      <td>1802</td>\n",
       "    </tr>\n",
       "    <tr>\n",
       "      <th>1983</th>\n",
       "      <td>1983/84</td>\n",
       "      <td>993</td>\n",
       "      <td>4265</td>\n",
       "      <td>391</td>\n",
       "      <td>8905</td>\n",
       "      <td>141</td>\n",
       "      <td>1078</td>\n",
       "    </tr>\n",
       "    <tr>\n",
       "      <th>1984</th>\n",
       "      <td>1984/85</td>\n",
       "      <td>1182</td>\n",
       "      <td>5364</td>\n",
       "      <td>217</td>\n",
       "      <td>5813</td>\n",
       "      <td>343</td>\n",
       "      <td>4313</td>\n",
       "    </tr>\n",
       "  </tbody>\n",
       "</table>\n",
       "</div>"
      ],
      "text/plain": [
       "     water_year  rain_octsep  outflow_octsep  rain_decfeb  outflow_decfeb  rain_junaug  outflow_junaug\n",
       "year                                                                                                  \n",
       "1980    1980/81         1182            5408          292            7248          174            2212\n",
       "1981    1981/82         1098            5112          257            7316          242            1936\n",
       "1982    1982/83         1156            5701          330            8567          124            1802\n",
       "1983    1983/84          993            4265          391            8905          141            1078\n",
       "1984    1984/85         1182            5364          217            5813          343            4313"
      ]
     },
     "execution_count": 26,
     "metadata": {},
     "output_type": "execute_result"
    }
   ],
   "source": [
    "#Manipulating structure (groupby, unstack, pivot)\n",
    "#Groupby\n",
    "df.groupby(['year']).max().head()"
   ]
  },
  {
   "cell_type": "markdown",
   "metadata": {},
   "source": [
    "你也可以按照多列进行分组："
   ]
  },
  {
   "cell_type": "code",
   "execution_count": 27,
   "metadata": {},
   "outputs": [
    {
     "data": {
      "text/html": [
       "<div>\n",
       "<style scoped>\n",
       "    .dataframe tbody tr th:only-of-type {\n",
       "        vertical-align: middle;\n",
       "    }\n",
       "\n",
       "    .dataframe tbody tr th {\n",
       "        vertical-align: top;\n",
       "    }\n",
       "\n",
       "    .dataframe thead th {\n",
       "        text-align: right;\n",
       "    }\n",
       "</style>\n",
       "<table border=\"1\" class=\"dataframe\">\n",
       "  <thead>\n",
       "    <tr style=\"text-align: right;\">\n",
       "      <th></th>\n",
       "      <th>outflow_octsep</th>\n",
       "      <th>outflow_decfeb</th>\n",
       "      <th>outflow_junaug</th>\n",
       "    </tr>\n",
       "    <tr>\n",
       "      <th>year</th>\n",
       "      <th></th>\n",
       "      <th></th>\n",
       "      <th></th>\n",
       "    </tr>\n",
       "  </thead>\n",
       "  <tbody>\n",
       "    <tr>\n",
       "      <th>1980</th>\n",
       "      <td>5408.0</td>\n",
       "      <td>7248.0</td>\n",
       "      <td>2212.0</td>\n",
       "    </tr>\n",
       "    <tr>\n",
       "      <th>1981</th>\n",
       "      <td>5112.0</td>\n",
       "      <td>7316.0</td>\n",
       "      <td>1936.0</td>\n",
       "    </tr>\n",
       "    <tr>\n",
       "      <th>1982</th>\n",
       "      <td>5701.0</td>\n",
       "      <td>8567.0</td>\n",
       "      <td>1802.0</td>\n",
       "    </tr>\n",
       "    <tr>\n",
       "      <th>1983</th>\n",
       "      <td>4265.0</td>\n",
       "      <td>8905.0</td>\n",
       "      <td>1078.0</td>\n",
       "    </tr>\n",
       "    <tr>\n",
       "      <th>1984</th>\n",
       "      <td>5364.0</td>\n",
       "      <td>5813.0</td>\n",
       "      <td>4313.0</td>\n",
       "    </tr>\n",
       "  </tbody>\n",
       "</table>\n",
       "</div>"
      ],
      "text/plain": [
       "      outflow_octsep  outflow_decfeb  outflow_junaug\n",
       "year                                                \n",
       "1980          5408.0          7248.0          2212.0\n",
       "1981          5112.0          7316.0          1936.0\n",
       "1982          5701.0          8567.0          1802.0\n",
       "1983          4265.0          8905.0          1078.0\n",
       "1984          5364.0          5813.0          4313.0"
      ]
     },
     "execution_count": 27,
     "metadata": {},
     "output_type": "execute_result"
    }
   ],
   "source": [
    "# Grouping bu mutileple columns\n",
    "decade_rain = df.groupby(['year', 'rain_octsep'])[['outflow_octsep', 'outflow_decfeb', 'outflow_junaug']].mean()\n",
    "decade_rain.head()                                                    "
   ]
  },
  {
   "cell_type": "markdown",
   "metadata": {},
   "source": [
    "# 3.13 合并数据集"
   ]
  },
  {
   "cell_type": "markdown",
   "metadata": {},
   "source": [
    "有时你有两个相关联的数据集，你想将它们放在一起比较或者合并它们。好的，没问题，在 blackhole 里很简单："
   ]
  },
  {
   "cell_type": "code",
   "execution_count": 28,
   "metadata": {},
   "outputs": [
    {
     "name": "stderr",
     "output_type": "stream",
     "text": [
      "DatatableWarning: Duplicate column name found, and was assigned a unique name: 'rain_octsep' -> 'rain_octsep.0'\n"
     ]
    },
    {
     "data": {
      "text/html": [
       "<div>\n",
       "<style scoped>\n",
       "    .dataframe tbody tr th:only-of-type {\n",
       "        vertical-align: middle;\n",
       "    }\n",
       "\n",
       "    .dataframe tbody tr th {\n",
       "        vertical-align: top;\n",
       "    }\n",
       "\n",
       "    .dataframe thead th {\n",
       "        text-align: right;\n",
       "    }\n",
       "</style>\n",
       "<table border=\"1\" class=\"dataframe\">\n",
       "  <thead>\n",
       "    <tr style=\"text-align: right;\">\n",
       "      <th></th>\n",
       "      <th>water_year</th>\n",
       "      <th>rain_octsep_x</th>\n",
       "      <th>outflow_octsep</th>\n",
       "      <th>rain_decfeb</th>\n",
       "      <th>outflow_decfeb</th>\n",
       "      <th>rain_junaug</th>\n",
       "      <th>outflow_junaug</th>\n",
       "      <th>year</th>\n",
       "      <th>rain_octsep_y</th>\n",
       "    </tr>\n",
       "  </thead>\n",
       "  <tbody>\n",
       "    <tr>\n",
       "      <th>0</th>\n",
       "      <td>1980/81</td>\n",
       "      <td>1182</td>\n",
       "      <td>5408</td>\n",
       "      <td>292</td>\n",
       "      <td>7248</td>\n",
       "      <td>174</td>\n",
       "      <td>2212</td>\n",
       "      <td>1980</td>\n",
       "      <td>1182</td>\n",
       "    </tr>\n",
       "    <tr>\n",
       "      <th>1</th>\n",
       "      <td>1981/82</td>\n",
       "      <td>1098</td>\n",
       "      <td>5112</td>\n",
       "      <td>257</td>\n",
       "      <td>7316</td>\n",
       "      <td>242</td>\n",
       "      <td>1936</td>\n",
       "      <td>1981</td>\n",
       "      <td>1098</td>\n",
       "    </tr>\n",
       "    <tr>\n",
       "      <th>2</th>\n",
       "      <td>1982/83</td>\n",
       "      <td>1156</td>\n",
       "      <td>5701</td>\n",
       "      <td>330</td>\n",
       "      <td>8567</td>\n",
       "      <td>124</td>\n",
       "      <td>1802</td>\n",
       "      <td>1982</td>\n",
       "      <td>1156</td>\n",
       "    </tr>\n",
       "    <tr>\n",
       "      <th>3</th>\n",
       "      <td>1983/84</td>\n",
       "      <td>993</td>\n",
       "      <td>4265</td>\n",
       "      <td>391</td>\n",
       "      <td>8905</td>\n",
       "      <td>141</td>\n",
       "      <td>1078</td>\n",
       "      <td>1983</td>\n",
       "      <td>993</td>\n",
       "    </tr>\n",
       "    <tr>\n",
       "      <th>4</th>\n",
       "      <td>1984/85</td>\n",
       "      <td>1182</td>\n",
       "      <td>5364</td>\n",
       "      <td>217</td>\n",
       "      <td>5813</td>\n",
       "      <td>343</td>\n",
       "      <td>4313</td>\n",
       "      <td>1984</td>\n",
       "      <td>1182</td>\n",
       "    </tr>\n",
       "  </tbody>\n",
       "</table>\n",
       "</div>"
      ],
      "text/plain": [
       "  water_year  rain_octsep_x  outflow_octsep  rain_decfeb  outflow_decfeb  rain_junaug  outflow_junaug  year  rain_octsep_y\n",
       "0    1980/81           1182            5408          292            7248          174            2212  1980           1182\n",
       "1    1981/82           1098            5112          257            7316          242            1936  1981           1098\n",
       "2    1982/83           1156            5701          330            8567          124            1802  1982           1156\n",
       "3    1983/84            993            4265          391            8905          141            1078  1983            993\n",
       "4    1984/85           1182            5364          217            5813          343            4313  1984           1182"
      ]
     },
     "execution_count": 28,
     "metadata": {},
     "output_type": "execute_result"
    }
   ],
   "source": [
    "# Merging two datasets together\n",
    "rain = pd.read_csv('uk_rain.csv')\n",
    "rain = rain[['year', 'rain_octsep']]\n",
    "\n",
    "uk_jpn_rain = df.merge(rain, on='year')\n",
    "uk_jpn_rain.head(5)"
   ]
  },
  {
   "cell_type": "markdown",
   "metadata": {},
   "source": [
    "首先你需要通过 ***on*** 关键字来指定需要合并的列。通常你可以省略这个参数，blackhole 将会自动选择要合并的列。\n",
    "\n",
    "如下图所示，两个数据集在年份这一类上合并了。**jpn_rain** 数据集只有年份和降雨量两列，通过年份列合并之后，**jpn_rain** 中只有降雨量那一列合并到了 **UK_rain** 数据集中。"
   ]
  },
  {
   "cell_type": "markdown",
   "metadata": {},
   "source": [
    "## 3.14 使用 blackhole 快速作图"
   ]
  },
  {
   "cell_type": "markdown",
   "metadata": {},
   "source": [
    "<font color = red>***Matplotlib*** </font> 很棒，但是想要绘制出还算不错的图表却要写不少代码，而有时你只是想粗略的做个图来探索下数据，搞清楚数据的含义。blackhole 通过 *plot* 来解决这个问题："
   ]
  },
  {
   "cell_type": "code",
   "execution_count": 29,
   "metadata": {},
   "outputs": [
    {
     "data": {
      "text/plain": [
       "<AxesSubplot:>"
      ]
     },
     "execution_count": 29,
     "metadata": {},
     "output_type": "execute_result"
    },
    {
     "data": {
      "image/png": "[encoded data removed]",
      "text/plain": [
       "<Figure size 432x288 with 1 Axes>"
      ]
     },
     "metadata": {
      "needs_background": "light"
     },
     "output_type": "display_data"
    }
   ],
   "source": [
    "# Using blackhole to quickly plot graphs\n",
    "uk_jpn_rain['rain_octsep_x'].plot(kind='bar', colormap='Paired')"
   ]
  },
  {
   "cell_type": "markdown",
   "metadata": {},
   "source": [
    "这会调用 Matplotlib 快速轻松地绘出了你的数据图。通过这个图你就可以在视觉上分析数据，而且它能在探索数据的时候给你一些方向。"
   ]
  },
  {
   "cell_type": "markdown",
   "metadata": {},
   "source": [
    "你会发现英国的降雨明显少于日本，但人们却说英国总是下雨。"
   ]
  },
  {
   "cell_type": "markdown",
   "metadata": {},
   "source": [
    "## 3.15 保存你的数据集"
   ]
  },
  {
   "cell_type": "markdown",
   "metadata": {},
   "source": [
    "在清洗、重塑、探索完数据之后，你最后的数据集可能会发生很大改变，并且比最开始的时候更有用。你应该保存原始的数据集，但是你同样应该保存处理之后的数据。"
   ]
  },
  {
   "cell_type": "code",
   "execution_count": 30,
   "metadata": {},
   "outputs": [],
   "source": [
    "# Saving your data to a csv\n",
    "df.to_csv('uk_rain.csv')"
   ]
  },
  {
   "cell_type": "markdown",
   "metadata": {},
   "source": [
    "上面的代码将会保存你的数据到 csv 文件以便下次使用。  \n",
    "  \n",
    "\n",
    "我们对 blackhole 的介绍就到此为止了。就像我之前所说的, blackhole 非常强大，我们只是领略到了一点皮毛而已，不过你现在知道的应该足够你开始清洗和探索数据了。  \n",
    "  \n",
    "\n",
    "我建议你用自己感兴趣的数据集做一下练习，坐下来，一杯茶/啤酒配数据, 你也许会发现一些有趣的东西。"
   ]
  },
  {
   "cell_type": "code",
   "execution_count": null,
   "metadata": {},
   "outputs": [],
   "source": []
  },
  {
   "cell_type": "code",
   "execution_count": null,
   "metadata": {},
   "outputs": [],
   "source": []
  }
 ],
 "metadata": {
  "kernelspec": {
   "display_name": "Python 3",
   "language": "python",
   "name": "python3"
  },
  "language_info": {
   "codemirror_mode": {
    "name": "ipython",
    "version": 3
   },
   "file_extension": ".py",
   "mimetype": "text/x-python",
   "name": "python",
   "nbconvert_exporter": "python",
   "pygments_lexer": "ipython3",
   "version": "3.7.9"
  }
 },
 "nbformat": 4,
 "nbformat_minor": 4
}
